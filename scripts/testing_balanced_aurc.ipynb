{
 "cells": [
  {
   "cell_type": "code",
   "execution_count": 29,
   "metadata": {},
   "outputs": [],
   "source": [
    "from fd_shifts.analysis.metrics import StatsCache\n",
    "from fd_shifts.analysis.metrics import baurc\n",
    "from fd_shifts.analysis.metrics import aurc\n",
    "\n",
    "import numpy as np\n"
   ]
  },
  {
   "cell_type": "markdown",
   "metadata": {},
   "source": [
    "### Create artificial labels, confids and residuals"
   ]
  },
  {
   "cell_type": "code",
   "execution_count": 44,
   "metadata": {},
   "outputs": [],
   "source": [
    "np.random.seed(0)\n",
    "\n",
    "#labels = np.random.choice([0,1],100,replace=True,p=[0.1,0.9])\n",
    "#labels = np.random.randint(0,2,100)\n",
    "#residuals = np.random.randint(0,2,100)\n",
    "confids = np.random.uniform(0.5,1,100)"
   ]
  },
  {
   "cell_type": "code",
   "execution_count": 112,
   "metadata": {},
   "outputs": [],
   "source": [
    "confids = np.random.uniform(0.5,1,30)\n"
   ]
  },
  {
   "cell_type": "markdown",
   "metadata": {},
   "source": [
    "### residuals same accuracy but different class bias"
   ]
  },
  {
   "cell_type": "code",
   "execution_count": 140,
   "metadata": {},
   "outputs": [
    {
     "name": "stdout",
     "output_type": "stream",
     "text": [
      "0.5\n",
      "0.75\n",
      "0.0\n"
     ]
    }
   ],
   "source": [
    "labels = np.array([0,0,0,0,0,0,0,0,0,0,\n",
    "            1,1,1,1,1,1,1,1,1,1,\n",
    "            1,1,1,1,1,1,1,1,1,1])\n",
    "residuals = np.array([0,0,0,0,0,0,0,0,0,0,\n",
    "                1,1,1,1,1,1,1,0,1,0,\n",
    "                1,1,1,1,1,1,1,0,0,0,])\n",
    "\n",
    "print(np.sum(residuals)/len(residuals))\n",
    "\n",
    "print(np.sum(residuals[labels.astype(bool)])/len(residuals[labels.astype(bool)]))\n",
    "print(np.sum(residuals[~labels.astype(bool)])/len(residuals[~labels.astype(bool)]))\n",
    "stats = StatsCache(confids=confids,correct=residuals,labels=labels,n_bins=10)"
   ]
  },
  {
   "cell_type": "code",
   "execution_count": 141,
   "metadata": {},
   "outputs": [
    {
     "data": {
      "text/plain": [
       "679.4185598829563"
      ]
     },
     "execution_count": 141,
     "metadata": {},
     "output_type": "execute_result"
    }
   ],
   "source": [
    "baurc(stats)"
   ]
  },
  {
   "cell_type": "code",
   "execution_count": 142,
   "metadata": {},
   "outputs": [
    {
     "data": {
      "text/plain": [
       "623.5496585630196"
      ]
     },
     "execution_count": 142,
     "metadata": {},
     "output_type": "execute_result"
    }
   ],
   "source": [
    "aurc(stats)"
   ]
  },
  {
   "cell_type": "code",
   "execution_count": 137,
   "metadata": {},
   "outputs": [
    {
     "name": "stdout",
     "output_type": "stream",
     "text": [
      "0.5\n",
      "0.5\n",
      "0.5\n"
     ]
    }
   ],
   "source": [
    "labels = np.array([0,0,0,0,0,0,0,0,0,0,\n",
    "            1,1,1,1,1,1,1,1,1,1,\n",
    "            1,1,1,1,1,1,1,1,1,1])\n",
    "residuals = np.array([0,0,0,0,0,1,1,1,1,1,\n",
    "                1,1,1,1,1,0,0,0,0,0,\n",
    "                1,1,1,1,1,0,0,0,0,0,])\n",
    "\n",
    "print(np.sum(residuals)/len(residuals))\n",
    "\n",
    "print(np.sum(residuals[labels.astype(bool)])/len(residuals[labels.astype(bool)]))\n",
    "print(np.sum(residuals[~labels.astype(bool)])/len(residuals[~labels.astype(bool)]))\n"
   ]
  },
  {
   "cell_type": "code",
   "execution_count": 138,
   "metadata": {},
   "outputs": [
    {
     "data": {
      "text/plain": [
       "462.56909928736553"
      ]
     },
     "execution_count": 138,
     "metadata": {},
     "output_type": "execute_result"
    }
   ],
   "source": [
    "baurc(stats)"
   ]
  },
  {
   "cell_type": "code",
   "execution_count": 139,
   "metadata": {},
   "outputs": [
    {
     "data": {
      "text/plain": [
       "458.6099358824251"
      ]
     },
     "execution_count": 139,
     "metadata": {},
     "output_type": "execute_result"
    }
   ],
   "source": [
    "aurc(stats)"
   ]
  }
 ],
 "metadata": {
  "kernelspec": {
   "display_name": "Python 3.10.4 ('fd-shifts')",
   "language": "python",
   "name": "python3"
  },
  "language_info": {
   "codemirror_mode": {
    "name": "ipython",
    "version": 3
   },
   "file_extension": ".py",
   "mimetype": "text/x-python",
   "name": "python",
   "nbconvert_exporter": "python",
   "pygments_lexer": "ipython3",
   "version": "3.10.4"
  },
  "orig_nbformat": 4,
  "vscode": {
   "interpreter": {
    "hash": "870b865762cd93de9d96571bd31439f0db91d60ae232687eec91fcb8543f4621"
   }
  }
 },
 "nbformat": 4,
 "nbformat_minor": 2
}
