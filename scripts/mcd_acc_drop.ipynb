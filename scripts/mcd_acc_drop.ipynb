{
 "cells": [
  {
   "cell_type": "code",
   "execution_count": 1,
   "metadata": {},
   "outputs": [],
   "source": [
    "import pandas as pd\n",
    "import numpy as np\n",
    "import plotly.graph_objects as go"
   ]
  },
  {
   "cell_type": "code",
   "execution_count": 5,
   "metadata": {},
   "outputs": [],
   "source": [
    "path = \"/home/l049e/Experiments/lidc_idri_proto/CE_det_spiculation/test_results/raw_output_dist.npz\"\n",
    "path2 = \"/home/l049e/Experiments/lidc_idri_proto/CE_det_spiculation/test_results/raw_output.npz\"\n",
    "\n",
    "ar = np.load(path)\n",
    "ar = ar[\"arr_0\"]\n",
    "ar2 = np.load(path2)\n",
    "ar2 = ar2[\"arr_0\"]"
   ]
  },
  {
   "cell_type": "code",
   "execution_count": 4,
   "metadata": {},
   "outputs": [
    {
     "data": {
      "text/plain": [
       "(2760, 2, 10)"
      ]
     },
     "execution_count": 4,
     "metadata": {},
     "output_type": "execute_result"
    }
   ],
   "source": [
    "ar.shape\n"
   ]
  },
  {
   "cell_type": "code",
   "execution_count": 14,
   "metadata": {},
   "outputs": [
    {
     "data": {
      "text/plain": [
       "2760"
      ]
     },
     "execution_count": 14,
     "metadata": {},
     "output_type": "execute_result"
    }
   ],
   "source": [
    "softmax_det = ar2[:,:-2]\n",
    "label = ar2[:,-2]\n",
    "dataset_idx = ar2[:,-1]\n",
    "pred_det = np.argmax(softmax_det, axis=1)\n",
    "len(pred_det)\n",
    "len(label)"
   ]
  },
  {
   "cell_type": "code",
   "execution_count": 17,
   "metadata": {},
   "outputs": [
    {
     "name": "stdout",
     "output_type": "stream",
     "text": [
      "0.0\n",
      "0.8313253012048193\n",
      "1.0\n",
      "0.8885923949299533\n",
      "2.0\n",
      "0.5835616438356165\n"
     ]
    }
   ],
   "source": [
    "for dataset in np.unique(dataset_idx):\n",
    "    print(dataset)\n",
    "    dataset_idx_sub = dataset_idx == dataset\n",
    "    label_sub = label[dataset_idx_sub]\n",
    "    pred_sub = pred_det[dataset_idx_sub]\n",
    "\n",
    "    acc = np.sum(label_sub==pred_sub)/len(label_sub)\n",
    "    print(acc)"
   ]
  },
  {
   "cell_type": "code",
   "execution_count": 22,
   "metadata": {},
   "outputs": [
    {
     "name": "stdout",
     "output_type": "stream",
     "text": [
      "0.0\n",
      "0.8554216867469879\n",
      "0.8554216867469879\n",
      "0.8614457831325302\n",
      "0.8674698795180723\n",
      "0.8554216867469879\n",
      "0.8493975903614458\n",
      "0.8433734939759037\n",
      "0.8313253012048193\n",
      "0.8373493975903614\n",
      "0.8433734939759037\n",
      "1.0\n",
      "0.8905937291527685\n",
      "0.8839226150767178\n",
      "0.8905937291527685\n",
      "0.885256837891928\n",
      "0.8832555036691128\n",
      "0.8845897264843229\n",
      "0.8839226150767178\n",
      "0.885923949299533\n",
      "0.8905937291527685\n",
      "0.8879252835223482\n",
      "2.0\n",
      "0.28584474885844746\n",
      "0.28036529680365296\n",
      "0.27488584474885847\n",
      "0.2821917808219178\n",
      "0.2821917808219178\n",
      "0.2776255707762557\n",
      "0.28127853881278536\n",
      "0.2958904109589041\n",
      "0.2876712328767123\n",
      "0.28401826484018267\n"
     ]
    }
   ],
   "source": [
    "predicted_mcd = {}\n",
    "for dataset in np.unique(dataset_idx):\n",
    "    print(dataset)\n",
    "    for mcd in range(10):\n",
    "        softmax_mcd_sample = ar[:,:,mcd]\n",
    "        predicted = np.argmax(softmax_mcd_sample,axis=1)\n",
    "        predicted_mcd[mcd] = predicted\n",
    "        dataset_idx_sub = dataset_idx == dataset\n",
    "        label_sub = label[dataset_idx_sub]\n",
    "        predicted_sub = predicted[dataset_idx_sub]\n",
    "        acc = np.sum(label_sub==predicted_sub)/len(label_sub)\n",
    "        print(acc)"
   ]
  },
  {
   "cell_type": "code",
   "execution_count": null,
   "metadata": {},
   "outputs": [],
   "source": []
  }
 ],
 "metadata": {
  "kernelspec": {
   "display_name": "Python 3.9.13 ('testenv')",
   "language": "python",
   "name": "python3"
  },
  "language_info": {
   "codemirror_mode": {
    "name": "ipython",
    "version": 3
   },
   "file_extension": ".py",
   "mimetype": "text/x-python",
   "name": "python",
   "nbconvert_exporter": "python",
   "pygments_lexer": "ipython3",
   "version": "3.9.13"
  },
  "orig_nbformat": 4,
  "vscode": {
   "interpreter": {
    "hash": "18c2a5cd9ef87fdc76bfaf47a44b678b3a2a5d9379d169b3cea61c65b142cdc6"
   }
  }
 },
 "nbformat": 4,
 "nbformat_minor": 2
}
