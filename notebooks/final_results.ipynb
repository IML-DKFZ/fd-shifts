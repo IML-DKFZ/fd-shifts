{
 "cells": [
  {
   "cell_type": "code",
   "execution_count": null,
   "metadata": {
    "collapsed": true
   },
   "outputs": [],
   "source": []
  },
  {
   "cell_type": "code",
   "execution_count": null,
   "outputs": [],
   "source": [],
   "metadata": {
    "collapsed": false,
    "pycharm": {
     "name": "#%%\n"
    }
   }
  },
  {
   "cell_type": "code",
   "execution_count": null,
   "outputs": [],
   "source": [],
   "metadata": {
    "collapsed": false,
    "pycharm": {
     "name": "#%%\n"
    }
   }
  },
  {
   "cell_type": "code",
   "execution_count": null,
   "outputs": [],
   "source": [],
   "metadata": {
    "collapsed": false,
    "pycharm": {
     "name": "#%%\n"
    }
   }
  },
  {
   "cell_type": "code",
   "execution_count": null,
   "outputs": [],
   "source": [
    "import pandas as pd\n",
    "import matplotlib.pyplot as plt\n",
    "import seaborn as sns\n",
    "import os\n",
    "\n",
    "pd.set_option('display.max_rows', 100)\n",
    "pd.set_option('display.max_columns', None)\n",
    "pd.set_option('display.width', None)\n",
    "pd.set_option('display.max_colwidth', -1)\n",
    "meanprops = dict(linestyle='-', linewidth=1, color='k', alpha=0.5)\n",
    "whiskerprops=dict(linestyle='-', linewidth=0)\n"
   ],
   "metadata": {
    "collapsed": false,
    "pycharm": {
     "name": "#%%\n"
    }
   }
  },
  {
   "cell_type": "code",
   "execution_count": null,
   "outputs": [],
   "source": [
    "exp_names = [\"svhn\",\n",
    "            \"cifar10\",\n",
    "            \"cifar100\",\n",
    "            \"super_cifar100\",\n",
    "            \"camelyon\",\n",
    "            # \"animals\",\n",
    "            ]\n",
    "\n",
    "df_list = []\n",
    "for exp in exp_names:\n",
    "    in_path = os.path.join(\"/Users/Paul/research/files/analysis/{}_paper_sweep.csv\".format(exp))\n",
    "    df =  pd.read_csv(in_path)\n",
    "    df = df.dropna(subset=[\"name\", \"model\"])\n",
    "    df = df.drop_duplicates(subset=[\"name\", \"study\", \"model\", \"network\", \"confid\"])\n",
    "    df[\"study\"] = df.apply(lambda row: exp + \"_\" + row[\"study\"], axis=1)\n",
    "    df_list.append(df)\n",
    "\n",
    "df = pd.concat(df_list)"
   ],
   "metadata": {
    "collapsed": false,
    "pycharm": {
     "name": "#%%\n"
    }
   }
  },
  {
   "cell_type": "code",
   "execution_count": null,
   "outputs": [],
   "source": [
    "df.groupby(\"study\").count()"
   ],
   "metadata": {
    "collapsed": false,
    "pycharm": {
     "name": "#%%\n"
    }
   }
  },
  {
   "cell_type": "code",
   "execution_count": null,
   "outputs": [],
   "source": [
    "df[\"backbone\"] = df.apply(lambda row: row[\"name\"].split(\"bb\")[1].split(\"_\")[0], axis=1)\n",
    "df[\"dropout\"] = df.apply(lambda row: row[\"name\"].split(\"do\")[1].split(\"_\")[0], axis=1)\n",
    "df[\"model\"] = df.apply(lambda row: row[\"name\"].split(\"_\")[0], axis=1)\n",
    "df[\"run\"] = df.apply(lambda row: row[\"name\"].split(\"run\")[1].split(\"_\")[0], axis=1)\n",
    "df[\"rew\"] = df.apply(lambda row: row[\"name\"].split(\"_rew\")[1].split(\"_\")[0], axis=1)\n",
    "df[\"confid\"] = df.apply(lambda row: row[\"model\"] + \"_\" + row[\"confid\"], axis=1)\n",
    "df = df.drop(\"model\", axis=1)"
   ],
   "metadata": {
    "collapsed": false,
    "pycharm": {
     "name": "#%%\n"
    }
   }
  },
  {
   "cell_type": "code",
   "execution_count": null,
   "outputs": [],
   "source": [
    "\n",
    "metric = \"aurc\"\n",
    "df = df[[\"study\", \"confid\", \"run\", \"backbone\", \"dropout\", \"rew\", metric]]"
   ],
   "metadata": {
    "collapsed": false,
    "pycharm": {
     "name": "#%%\n"
    }
   }
  },
  {
   "cell_type": "code",
   "execution_count": null,
   "outputs": [],
   "source": [
    "non_agg_columns = [\"study\", \"confid\", \"backbone\", \"dropout\", \"rew\"]\n",
    "\n",
    "df = df.groupby(by=non_agg_columns).mean().reset_index()\n",
    "df_std = df.groupby(by=non_agg_columns).std().reset_index()\n",
    "df[metric + \"_std\"] = df_std[metric]\n"
   ],
   "metadata": {
    "collapsed": false,
    "pycharm": {
     "name": "#%%\n"
    }
   }
  },
  {
   "cell_type": "code",
   "execution_count": null,
   "outputs": [],
   "source": [
    "studies = df.studies.unique().tolist()\n",
    "dff = df[df.study == studies[-1]]\n",
    "dff = dff.rename(columns={metric: studies[-1], metric + \"_std\": studies[-1] + \"_std\"})\n",
    "dff.drop(\"study\")\n",
    "for s in studies[1:]:\n",
    "    sdf = df[df.study == s]\n",
    "    dff[s] = sdf[metric]\n",
    "    dff[s + \"_std\"] = sdf[metric + \"_std\"]"
   ],
   "metadata": {
    "collapsed": false,
    "pycharm": {
     "name": "#%%\n"
    }
   }
  },
  {
   "cell_type": "code",
   "execution_count": null,
   "outputs": [],
   "source": [
    "dff"
   ],
   "metadata": {
    "collapsed": false,
    "pycharm": {
     "name": "#%%\n"
    }
   }
  },
  {
   "cell_type": "code",
   "execution_count": null,
   "outputs": [],
   "source": [
    "# todo: filter rows! use val tuning etc."
   ],
   "metadata": {
    "collapsed": false,
    "pycharm": {
     "name": "#%%\n"
    }
   }
  },
  {
   "cell_type": "code",
   "execution_count": null,
   "outputs": [],
   "source": [
    "plot_data = data # & (data[\"ne\"].str.contains(\"250\")) & (data[\"ap\"]==False)]\n",
    "scale = 5\n",
    "sns.set_style(\"whitegrid\")\n",
    "sns.set_context(\"paper\", font_scale=scale * 0.3)\n",
    "dims = [\"confid\", \"model\", \"backbone\", \"dropout\", \"rew\"]\n",
    "metrics = [\"accuracy\", \"failauc\", \"failap_err\", \"aurc\"]\n",
    "\n",
    "f, axs = plt.subplots(nrows=len(dims), ncols=len(metrics), figsize=(len(metrics)*scale, len(dims)*scale))\n",
    "for xix, dim in enumerate(dims):\n",
    "    for yix, metric in enumerate(metrics):\n",
    "        y = metric\n",
    "        sns.stripplot(ax=axs[xix, yix], x=dim, y=metric, data=plot_data, s = scale*0.8)\n",
    "        sns.boxplot(ax=axs[xix, yix], x=dim, y=metric, data=plot_data, saturation=0, showbox=False, showcaps=False, showfliers=False, whiskerprops=whiskerprops, showmeans=True, meanprops=meanprops, meanline=True)\n",
    "        axs[xix, yix].set_xticklabels(axs[xix, yix].get_xticklabels(),rotation=90)\n",
    "        # if \"iid\" in study and metric == \"aurc\":\n",
    "        #     axs[xix, yix].set_ylim(4, 8)\n",
    "        # if \"iid\" in study and metric == \"failauc\":\n",
    "        #     axs[xix, yix].set_ylim(0.90, 0.96)\n",
    "plt.tight_layout()\n",
    "# plt.savefig(\"/Users/Paul/research/files/analysis/{}_cifar10.png\".format(study))"
   ],
   "metadata": {
    "collapsed": false,
    "pycharm": {
     "name": "#%%\n"
    }
   }
  },
  {
   "cell_type": "code",
   "execution_count": null,
   "outputs": [],
   "source": [
    "std_columns = [c for c in data_std.columns if \"std\"in c]\n",
    "for s in std_columns:\n",
    "    data[s] = data_std[s]\n",
    "\n",
    "print(data.columns)\n",
    "print(data_std.columns)\n",
    "print(len(data))\n",
    "data[[\"model\", \"backbone\",  \"dropout\",  \"confid\",  \"rew\", \"accuracy\", \"accuracy_std\", \"failauc\", \"failauc_std\", \"aurc\", \"aurc_std\", \"failap_suc\", \"risk@100cov\", \"risk@95cov\", \"risk@90cov\", \"risk@85cov\", \"risk@80cov\"]].sort_values(by=\"aurc\", ascending=True)"
   ],
   "metadata": {
    "collapsed": false,
    "pycharm": {
     "name": "#%%\n"
    }
   }
  },
  {
   "cell_type": "code",
   "execution_count": null,
   "outputs": [],
   "source": [
    "df[(df.study == \"iid_study\") & (df.dropout == \"1\")]"
   ],
   "metadata": {
    "collapsed": false,
    "pycharm": {
     "name": "#%%\n"
    }
   }
  },
  {
   "cell_type": "code",
   "execution_count": null,
   "outputs": [],
   "source": [
    "import numpy as np\n",
    "np.std([0.95000, 0.94633, 1])\n",
    "np.std([95.000, 94.633], ddof=1)"
   ],
   "metadata": {
    "collapsed": false,
    "pycharm": {
     "name": "#%%\n"
    }
   }
  },
  {
   "cell_type": "code",
   "execution_count": null,
   "outputs": [],
   "source": [
    "\n",
    "\n",
    "\n",
    "\n"
   ],
   "metadata": {
    "collapsed": false,
    "pycharm": {
     "name": "#%%\n"
    }
   }
  }
 ],
 "metadata": {
  "kernelspec": {
   "display_name": "Python 3",
   "language": "python",
   "name": "python3"
  },
  "language_info": {
   "codemirror_mode": {
    "name": "ipython",
    "version": 2
   },
   "file_extension": ".py",
   "mimetype": "text/x-python",
   "name": "python",
   "nbconvert_exporter": "python",
   "pygments_lexer": "ipython2",
   "version": "2.7.6"
  }
 },
 "nbformat": 4,
 "nbformat_minor": 0
}