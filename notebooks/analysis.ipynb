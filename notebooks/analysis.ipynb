{
 "cells": [
  {
   "cell_type": "code",
   "execution_count": 1,
   "metadata": {
    "collapsed": true
   },
   "outputs": [],
   "source": [
    "import pandas as pd\n",
    "in_path = \"/Users/Paul/research/files/metrics.csv\"\n"
   ]
  },
  {
   "cell_type": "code",
   "execution_count": 17,
   "outputs": [
    {
     "data": {
      "text/plain": "    Unnamed: 0    name       model   confid  accuracy  failauc  failap_suc  \\\n0            0  fold_0  small_conv  det_mcp     0.952    0.936       0.995   \n1            1  fold_0  small_conv   det_pe     0.952    0.937       0.996   \n2            2  fold_0  small_conv  mcd_mcp     0.952    0.938       0.996   \n3            3  fold_0  small_conv   mcd_pe     0.952    0.937       0.996   \n4            4  fold_0  small_conv   mcd_ee     0.952    0.937       0.996   \n5            5  fold_0  small_conv   mcd_mi     0.952    0.934       0.996   \n6            6  fold_0  small_conv   mcd_sv     0.952    0.932       0.995   \n7            7  fold_1  small_conv  det_mcp     0.955    0.930       0.995   \n8            8  fold_1  small_conv   det_pe     0.955    0.932       0.996   \n9            9  fold_1  small_conv  mcd_mcp     0.955    0.931       0.996   \n10          10  fold_1  small_conv   mcd_pe     0.955    0.929       0.996   \n11          11  fold_1  small_conv   mcd_ee     0.955    0.930       0.996   \n12          12  fold_1  small_conv   mcd_mi     0.955    0.925       0.995   \n13          13  fold_1  small_conv   mcd_sv     0.955    0.923       0.995   \n14          14  fold_2  small_conv  det_mcp     0.950    0.940       0.996   \n15          15  fold_2  small_conv   det_pe     0.950    0.940       0.996   \n16          16  fold_2  small_conv  mcd_mcp     0.949    0.940       0.996   \n17          17  fold_2  small_conv   mcd_pe     0.949    0.939       0.996   \n18          18  fold_2  small_conv   mcd_ee     0.949    0.938       0.996   \n19          19  fold_2  small_conv   mcd_mi     0.949    0.935       0.996   \n20          20  fold_2  small_conv   mcd_sv     0.949    0.934       0.996   \n21          21  fold_3  small_conv  det_mcp     0.952    0.931       0.995   \n22          22  fold_3  small_conv   det_pe     0.952    0.931       0.995   \n23          23  fold_3  small_conv  mcd_mcp     0.953    0.929       0.995   \n24          24  fold_3  small_conv   mcd_pe     0.953    0.927       0.995   \n25          25  fold_3  small_conv   mcd_ee     0.953    0.927       0.995   \n26          26  fold_3  small_conv   mcd_mi     0.953    0.924       0.995   \n27          27  fold_3  small_conv   mcd_sv     0.953    0.924       0.995   \n28          28  fold_4  small_conv  det_mcp     0.952    0.927       0.995   \n29          29  fold_4  small_conv   det_pe     0.952    0.929       0.995   \n30          30  fold_4  small_conv  mcd_mcp     0.952    0.932       0.995   \n31          31  fold_4  small_conv   mcd_pe     0.952    0.929       0.995   \n32          32  fold_4  small_conv   mcd_ee     0.952    0.929       0.995   \n33          33  fold_4  small_conv   mcd_mi     0.952    0.927       0.995   \n34          34  fold_4  small_conv   mcd_sv     0.952    0.925       0.995   \n\n    failap_err    mce    ece  e-aurc   aurc  fpr@95tpr  \n0        0.506  0.374  0.027   0.005  0.006      0.280  \n1        0.527  0.371  0.019   0.004  0.005      0.274  \n2        0.537  0.324  0.010   0.004  0.005      0.261  \n3        0.530  0.204  0.025   0.004  0.005      0.293  \n4        0.514  0.189  0.011   0.004  0.005      0.307  \n5        0.475  1.000  0.027   0.004  0.005      0.305  \n6        0.440  0.388  0.027   0.005  0.006      0.290  \n7        0.472  0.279  0.024   0.004  0.005      0.284  \n8        0.487  0.674  0.015   0.004  0.005      0.284  \n9        0.469  0.229  0.009   0.004  0.005      0.272  \n10       0.453  0.477  0.027   0.004  0.005      0.291  \n11       0.452  1.000  0.013   0.004  0.005      0.300  \n12       0.418  0.427  0.029   0.004  0.005      0.327  \n13       0.387  0.472  0.033   0.005  0.006      0.297  \n14       0.506  0.759  0.027   0.004  0.005      0.275  \n15       0.522  0.940  0.019   0.004  0.005      0.272  \n16       0.548  0.258  0.009   0.004  0.005      0.268  \n17       0.529  0.218  0.023   0.004  0.005      0.292  \n18       0.519  0.159  0.011   0.004  0.005      0.295  \n19       0.483  0.324  0.025   0.004  0.006      0.338  \n20       0.444  0.486  0.028   0.005  0.006      0.300  \n21       0.467  0.712  0.028   0.004  0.006      0.310  \n22       0.471  0.421  0.017   0.004  0.006      0.299  \n23       0.464  0.143  0.011   0.005  0.006      0.312  \n24       0.432  0.376  0.030   0.005  0.006      0.350  \n25       0.430  0.273  0.014   0.005  0.006      0.347  \n26       0.408  0.624  0.026   0.005  0.006      0.370  \n27       0.405  0.370  0.031   0.005  0.006      0.338  \n28       0.482  0.282  0.026   0.005  0.006      0.316  \n29       0.482  0.318  0.016   0.005  0.006      0.311  \n30       0.509  0.232  0.012   0.004  0.006      0.309  \n31       0.463  0.371  0.029   0.005  0.006      0.331  \n32       0.451  1.000  0.014   0.005  0.006      0.360  \n33       0.428  0.418  0.022   0.005  0.006      0.334  \n34       0.401  0.515  0.037   0.005  0.006      0.320  ",
      "text/html": "<div>\n<style scoped>\n    .dataframe tbody tr th:only-of-type {\n        vertical-align: middle;\n    }\n\n    .dataframe tbody tr th {\n        vertical-align: top;\n    }\n\n    .dataframe thead th {\n        text-align: right;\n    }\n</style>\n<table border=\"1\" class=\"dataframe\">\n  <thead>\n    <tr style=\"text-align: right;\">\n      <th></th>\n      <th>Unnamed: 0</th>\n      <th>name</th>\n      <th>model</th>\n      <th>confid</th>\n      <th>accuracy</th>\n      <th>failauc</th>\n      <th>failap_suc</th>\n      <th>failap_err</th>\n      <th>mce</th>\n      <th>ece</th>\n      <th>e-aurc</th>\n      <th>aurc</th>\n      <th>fpr@95tpr</th>\n    </tr>\n  </thead>\n  <tbody>\n    <tr>\n      <th>0</th>\n      <td>0</td>\n      <td>fold_0</td>\n      <td>small_conv</td>\n      <td>det_mcp</td>\n      <td>0.952</td>\n      <td>0.936</td>\n      <td>0.995</td>\n      <td>0.506</td>\n      <td>0.374</td>\n      <td>0.027</td>\n      <td>0.005</td>\n      <td>0.006</td>\n      <td>0.280</td>\n    </tr>\n    <tr>\n      <th>1</th>\n      <td>1</td>\n      <td>fold_0</td>\n      <td>small_conv</td>\n      <td>det_pe</td>\n      <td>0.952</td>\n      <td>0.937</td>\n      <td>0.996</td>\n      <td>0.527</td>\n      <td>0.371</td>\n      <td>0.019</td>\n      <td>0.004</td>\n      <td>0.005</td>\n      <td>0.274</td>\n    </tr>\n    <tr>\n      <th>2</th>\n      <td>2</td>\n      <td>fold_0</td>\n      <td>small_conv</td>\n      <td>mcd_mcp</td>\n      <td>0.952</td>\n      <td>0.938</td>\n      <td>0.996</td>\n      <td>0.537</td>\n      <td>0.324</td>\n      <td>0.010</td>\n      <td>0.004</td>\n      <td>0.005</td>\n      <td>0.261</td>\n    </tr>\n    <tr>\n      <th>3</th>\n      <td>3</td>\n      <td>fold_0</td>\n      <td>small_conv</td>\n      <td>mcd_pe</td>\n      <td>0.952</td>\n      <td>0.937</td>\n      <td>0.996</td>\n      <td>0.530</td>\n      <td>0.204</td>\n      <td>0.025</td>\n      <td>0.004</td>\n      <td>0.005</td>\n      <td>0.293</td>\n    </tr>\n    <tr>\n      <th>4</th>\n      <td>4</td>\n      <td>fold_0</td>\n      <td>small_conv</td>\n      <td>mcd_ee</td>\n      <td>0.952</td>\n      <td>0.937</td>\n      <td>0.996</td>\n      <td>0.514</td>\n      <td>0.189</td>\n      <td>0.011</td>\n      <td>0.004</td>\n      <td>0.005</td>\n      <td>0.307</td>\n    </tr>\n    <tr>\n      <th>5</th>\n      <td>5</td>\n      <td>fold_0</td>\n      <td>small_conv</td>\n      <td>mcd_mi</td>\n      <td>0.952</td>\n      <td>0.934</td>\n      <td>0.996</td>\n      <td>0.475</td>\n      <td>1.000</td>\n      <td>0.027</td>\n      <td>0.004</td>\n      <td>0.005</td>\n      <td>0.305</td>\n    </tr>\n    <tr>\n      <th>6</th>\n      <td>6</td>\n      <td>fold_0</td>\n      <td>small_conv</td>\n      <td>mcd_sv</td>\n      <td>0.952</td>\n      <td>0.932</td>\n      <td>0.995</td>\n      <td>0.440</td>\n      <td>0.388</td>\n      <td>0.027</td>\n      <td>0.005</td>\n      <td>0.006</td>\n      <td>0.290</td>\n    </tr>\n    <tr>\n      <th>7</th>\n      <td>7</td>\n      <td>fold_1</td>\n      <td>small_conv</td>\n      <td>det_mcp</td>\n      <td>0.955</td>\n      <td>0.930</td>\n      <td>0.995</td>\n      <td>0.472</td>\n      <td>0.279</td>\n      <td>0.024</td>\n      <td>0.004</td>\n      <td>0.005</td>\n      <td>0.284</td>\n    </tr>\n    <tr>\n      <th>8</th>\n      <td>8</td>\n      <td>fold_1</td>\n      <td>small_conv</td>\n      <td>det_pe</td>\n      <td>0.955</td>\n      <td>0.932</td>\n      <td>0.996</td>\n      <td>0.487</td>\n      <td>0.674</td>\n      <td>0.015</td>\n      <td>0.004</td>\n      <td>0.005</td>\n      <td>0.284</td>\n    </tr>\n    <tr>\n      <th>9</th>\n      <td>9</td>\n      <td>fold_1</td>\n      <td>small_conv</td>\n      <td>mcd_mcp</td>\n      <td>0.955</td>\n      <td>0.931</td>\n      <td>0.996</td>\n      <td>0.469</td>\n      <td>0.229</td>\n      <td>0.009</td>\n      <td>0.004</td>\n      <td>0.005</td>\n      <td>0.272</td>\n    </tr>\n    <tr>\n      <th>10</th>\n      <td>10</td>\n      <td>fold_1</td>\n      <td>small_conv</td>\n      <td>mcd_pe</td>\n      <td>0.955</td>\n      <td>0.929</td>\n      <td>0.996</td>\n      <td>0.453</td>\n      <td>0.477</td>\n      <td>0.027</td>\n      <td>0.004</td>\n      <td>0.005</td>\n      <td>0.291</td>\n    </tr>\n    <tr>\n      <th>11</th>\n      <td>11</td>\n      <td>fold_1</td>\n      <td>small_conv</td>\n      <td>mcd_ee</td>\n      <td>0.955</td>\n      <td>0.930</td>\n      <td>0.996</td>\n      <td>0.452</td>\n      <td>1.000</td>\n      <td>0.013</td>\n      <td>0.004</td>\n      <td>0.005</td>\n      <td>0.300</td>\n    </tr>\n    <tr>\n      <th>12</th>\n      <td>12</td>\n      <td>fold_1</td>\n      <td>small_conv</td>\n      <td>mcd_mi</td>\n      <td>0.955</td>\n      <td>0.925</td>\n      <td>0.995</td>\n      <td>0.418</td>\n      <td>0.427</td>\n      <td>0.029</td>\n      <td>0.004</td>\n      <td>0.005</td>\n      <td>0.327</td>\n    </tr>\n    <tr>\n      <th>13</th>\n      <td>13</td>\n      <td>fold_1</td>\n      <td>small_conv</td>\n      <td>mcd_sv</td>\n      <td>0.955</td>\n      <td>0.923</td>\n      <td>0.995</td>\n      <td>0.387</td>\n      <td>0.472</td>\n      <td>0.033</td>\n      <td>0.005</td>\n      <td>0.006</td>\n      <td>0.297</td>\n    </tr>\n    <tr>\n      <th>14</th>\n      <td>14</td>\n      <td>fold_2</td>\n      <td>small_conv</td>\n      <td>det_mcp</td>\n      <td>0.950</td>\n      <td>0.940</td>\n      <td>0.996</td>\n      <td>0.506</td>\n      <td>0.759</td>\n      <td>0.027</td>\n      <td>0.004</td>\n      <td>0.005</td>\n      <td>0.275</td>\n    </tr>\n    <tr>\n      <th>15</th>\n      <td>15</td>\n      <td>fold_2</td>\n      <td>small_conv</td>\n      <td>det_pe</td>\n      <td>0.950</td>\n      <td>0.940</td>\n      <td>0.996</td>\n      <td>0.522</td>\n      <td>0.940</td>\n      <td>0.019</td>\n      <td>0.004</td>\n      <td>0.005</td>\n      <td>0.272</td>\n    </tr>\n    <tr>\n      <th>16</th>\n      <td>16</td>\n      <td>fold_2</td>\n      <td>small_conv</td>\n      <td>mcd_mcp</td>\n      <td>0.949</td>\n      <td>0.940</td>\n      <td>0.996</td>\n      <td>0.548</td>\n      <td>0.258</td>\n      <td>0.009</td>\n      <td>0.004</td>\n      <td>0.005</td>\n      <td>0.268</td>\n    </tr>\n    <tr>\n      <th>17</th>\n      <td>17</td>\n      <td>fold_2</td>\n      <td>small_conv</td>\n      <td>mcd_pe</td>\n      <td>0.949</td>\n      <td>0.939</td>\n      <td>0.996</td>\n      <td>0.529</td>\n      <td>0.218</td>\n      <td>0.023</td>\n      <td>0.004</td>\n      <td>0.005</td>\n      <td>0.292</td>\n    </tr>\n    <tr>\n      <th>18</th>\n      <td>18</td>\n      <td>fold_2</td>\n      <td>small_conv</td>\n      <td>mcd_ee</td>\n      <td>0.949</td>\n      <td>0.938</td>\n      <td>0.996</td>\n      <td>0.519</td>\n      <td>0.159</td>\n      <td>0.011</td>\n      <td>0.004</td>\n      <td>0.005</td>\n      <td>0.295</td>\n    </tr>\n    <tr>\n      <th>19</th>\n      <td>19</td>\n      <td>fold_2</td>\n      <td>small_conv</td>\n      <td>mcd_mi</td>\n      <td>0.949</td>\n      <td>0.935</td>\n      <td>0.996</td>\n      <td>0.483</td>\n      <td>0.324</td>\n      <td>0.025</td>\n      <td>0.004</td>\n      <td>0.006</td>\n      <td>0.338</td>\n    </tr>\n    <tr>\n      <th>20</th>\n      <td>20</td>\n      <td>fold_2</td>\n      <td>small_conv</td>\n      <td>mcd_sv</td>\n      <td>0.949</td>\n      <td>0.934</td>\n      <td>0.996</td>\n      <td>0.444</td>\n      <td>0.486</td>\n      <td>0.028</td>\n      <td>0.005</td>\n      <td>0.006</td>\n      <td>0.300</td>\n    </tr>\n    <tr>\n      <th>21</th>\n      <td>21</td>\n      <td>fold_3</td>\n      <td>small_conv</td>\n      <td>det_mcp</td>\n      <td>0.952</td>\n      <td>0.931</td>\n      <td>0.995</td>\n      <td>0.467</td>\n      <td>0.712</td>\n      <td>0.028</td>\n      <td>0.004</td>\n      <td>0.006</td>\n      <td>0.310</td>\n    </tr>\n    <tr>\n      <th>22</th>\n      <td>22</td>\n      <td>fold_3</td>\n      <td>small_conv</td>\n      <td>det_pe</td>\n      <td>0.952</td>\n      <td>0.931</td>\n      <td>0.995</td>\n      <td>0.471</td>\n      <td>0.421</td>\n      <td>0.017</td>\n      <td>0.004</td>\n      <td>0.006</td>\n      <td>0.299</td>\n    </tr>\n    <tr>\n      <th>23</th>\n      <td>23</td>\n      <td>fold_3</td>\n      <td>small_conv</td>\n      <td>mcd_mcp</td>\n      <td>0.953</td>\n      <td>0.929</td>\n      <td>0.995</td>\n      <td>0.464</td>\n      <td>0.143</td>\n      <td>0.011</td>\n      <td>0.005</td>\n      <td>0.006</td>\n      <td>0.312</td>\n    </tr>\n    <tr>\n      <th>24</th>\n      <td>24</td>\n      <td>fold_3</td>\n      <td>small_conv</td>\n      <td>mcd_pe</td>\n      <td>0.953</td>\n      <td>0.927</td>\n      <td>0.995</td>\n      <td>0.432</td>\n      <td>0.376</td>\n      <td>0.030</td>\n      <td>0.005</td>\n      <td>0.006</td>\n      <td>0.350</td>\n    </tr>\n    <tr>\n      <th>25</th>\n      <td>25</td>\n      <td>fold_3</td>\n      <td>small_conv</td>\n      <td>mcd_ee</td>\n      <td>0.953</td>\n      <td>0.927</td>\n      <td>0.995</td>\n      <td>0.430</td>\n      <td>0.273</td>\n      <td>0.014</td>\n      <td>0.005</td>\n      <td>0.006</td>\n      <td>0.347</td>\n    </tr>\n    <tr>\n      <th>26</th>\n      <td>26</td>\n      <td>fold_3</td>\n      <td>small_conv</td>\n      <td>mcd_mi</td>\n      <td>0.953</td>\n      <td>0.924</td>\n      <td>0.995</td>\n      <td>0.408</td>\n      <td>0.624</td>\n      <td>0.026</td>\n      <td>0.005</td>\n      <td>0.006</td>\n      <td>0.370</td>\n    </tr>\n    <tr>\n      <th>27</th>\n      <td>27</td>\n      <td>fold_3</td>\n      <td>small_conv</td>\n      <td>mcd_sv</td>\n      <td>0.953</td>\n      <td>0.924</td>\n      <td>0.995</td>\n      <td>0.405</td>\n      <td>0.370</td>\n      <td>0.031</td>\n      <td>0.005</td>\n      <td>0.006</td>\n      <td>0.338</td>\n    </tr>\n    <tr>\n      <th>28</th>\n      <td>28</td>\n      <td>fold_4</td>\n      <td>small_conv</td>\n      <td>det_mcp</td>\n      <td>0.952</td>\n      <td>0.927</td>\n      <td>0.995</td>\n      <td>0.482</td>\n      <td>0.282</td>\n      <td>0.026</td>\n      <td>0.005</td>\n      <td>0.006</td>\n      <td>0.316</td>\n    </tr>\n    <tr>\n      <th>29</th>\n      <td>29</td>\n      <td>fold_4</td>\n      <td>small_conv</td>\n      <td>det_pe</td>\n      <td>0.952</td>\n      <td>0.929</td>\n      <td>0.995</td>\n      <td>0.482</td>\n      <td>0.318</td>\n      <td>0.016</td>\n      <td>0.005</td>\n      <td>0.006</td>\n      <td>0.311</td>\n    </tr>\n    <tr>\n      <th>30</th>\n      <td>30</td>\n      <td>fold_4</td>\n      <td>small_conv</td>\n      <td>mcd_mcp</td>\n      <td>0.952</td>\n      <td>0.932</td>\n      <td>0.995</td>\n      <td>0.509</td>\n      <td>0.232</td>\n      <td>0.012</td>\n      <td>0.004</td>\n      <td>0.006</td>\n      <td>0.309</td>\n    </tr>\n    <tr>\n      <th>31</th>\n      <td>31</td>\n      <td>fold_4</td>\n      <td>small_conv</td>\n      <td>mcd_pe</td>\n      <td>0.952</td>\n      <td>0.929</td>\n      <td>0.995</td>\n      <td>0.463</td>\n      <td>0.371</td>\n      <td>0.029</td>\n      <td>0.005</td>\n      <td>0.006</td>\n      <td>0.331</td>\n    </tr>\n    <tr>\n      <th>32</th>\n      <td>32</td>\n      <td>fold_4</td>\n      <td>small_conv</td>\n      <td>mcd_ee</td>\n      <td>0.952</td>\n      <td>0.929</td>\n      <td>0.995</td>\n      <td>0.451</td>\n      <td>1.000</td>\n      <td>0.014</td>\n      <td>0.005</td>\n      <td>0.006</td>\n      <td>0.360</td>\n    </tr>\n    <tr>\n      <th>33</th>\n      <td>33</td>\n      <td>fold_4</td>\n      <td>small_conv</td>\n      <td>mcd_mi</td>\n      <td>0.952</td>\n      <td>0.927</td>\n      <td>0.995</td>\n      <td>0.428</td>\n      <td>0.418</td>\n      <td>0.022</td>\n      <td>0.005</td>\n      <td>0.006</td>\n      <td>0.334</td>\n    </tr>\n    <tr>\n      <th>34</th>\n      <td>34</td>\n      <td>fold_4</td>\n      <td>small_conv</td>\n      <td>mcd_sv</td>\n      <td>0.952</td>\n      <td>0.925</td>\n      <td>0.995</td>\n      <td>0.401</td>\n      <td>0.515</td>\n      <td>0.037</td>\n      <td>0.005</td>\n      <td>0.006</td>\n      <td>0.320</td>\n    </tr>\n  </tbody>\n</table>\n</div>"
     },
     "execution_count": 17,
     "metadata": {},
     "output_type": "execute_result"
    }
   ],
   "source": [
    "df = pd.read_csv(in_path)\n",
    "df"
   ],
   "metadata": {
    "collapsed": false,
    "pycharm": {
     "name": "#%%\n"
    }
   }
  },
  {
   "cell_type": "code",
   "execution_count": 16,
   "outputs": [
    {
     "name": "stdout",
     "output_type": "stream",
     "text": [
      "0.9521999999999999\n",
      "0.9522000000000002\n",
      "0.9522\n",
      "0.0018755391381742505\n",
      "[0.9520000000000001, 0.9520000000000001, 0.9520000000000001, 0.9520000000000001, 0.9520000000000001, 0.9520000000000001, 0.9520000000000001, 0.955, 0.955, 0.955, 0.955, 0.955, 0.955, 0.955, 0.95, 0.95, 0.9490000000000001, 0.9490000000000001, 0.9490000000000001, 0.9490000000000001, 0.9490000000000001, 0.9520000000000001, 0.9520000000000001, 0.953, 0.953, 0.953, 0.953, 0.953, 0.9520000000000001, 0.9520000000000001, 0.9520000000000001, 0.9520000000000001, 0.9520000000000001, 0.9520000000000001, 0.9520000000000001]\n"
     ]
    }
   ],
   "source": [
    "print(df.accuracy.mean())\n",
    "print(df[df.confid.str.contains(\"mcd_\")].accuracy.mean())\n",
    "print(df[df.confid.str.contains(\"det_\")].accuracy.mean())\n",
    "print(df.accuracy.std())\n",
    "print(df.accuracy.tolist())"
   ],
   "metadata": {
    "collapsed": false,
    "pycharm": {
     "name": "#%%\n"
    }
   }
  },
  {
   "cell_type": "code",
   "execution_count": 18,
   "outputs": [],
   "source": [
    "df_confid = df.groupby(\"confid\").mean()"
   ],
   "metadata": {
    "collapsed": false,
    "pycharm": {
     "name": "#%%\n"
    }
   }
  },
  {
   "cell_type": "code",
   "execution_count": 19,
   "outputs": [
    {
     "data": {
      "text/plain": "         Unnamed: 0  accuracy  failauc  failap_suc  failap_err     mce  \\\nconfid                                                                   \ndet_mcp          14    0.9522   0.9328      0.9952      0.4866  0.4812   \ndet_pe           15    0.9522   0.9338      0.9956      0.4978  0.5448   \nmcd_ee           18    0.9522   0.9322      0.9956      0.4732  0.5242   \nmcd_mcp          16    0.9522   0.9340      0.9956      0.5054  0.2372   \nmcd_mi           19    0.9522   0.9290      0.9954      0.4424  0.5586   \nmcd_pe           17    0.9522   0.9322      0.9956      0.4814  0.3292   \nmcd_sv           20    0.9522   0.9276      0.9952      0.4154  0.4462   \n\n            ece  e-aurc    aurc  fpr@95tpr  \nconfid                                      \ndet_mcp  0.0264  0.0044  0.0056     0.2930  \ndet_pe   0.0172  0.0042  0.0054     0.2880  \nmcd_ee   0.0126  0.0044  0.0054     0.3218  \nmcd_mcp  0.0102  0.0042  0.0054     0.2844  \nmcd_mi   0.0258  0.0044  0.0056     0.3348  \nmcd_pe   0.0268  0.0044  0.0054     0.3114  \nmcd_sv   0.0312  0.0050  0.0060     0.3090  ",
      "text/html": "<div>\n<style scoped>\n    .dataframe tbody tr th:only-of-type {\n        vertical-align: middle;\n    }\n\n    .dataframe tbody tr th {\n        vertical-align: top;\n    }\n\n    .dataframe thead th {\n        text-align: right;\n    }\n</style>\n<table border=\"1\" class=\"dataframe\">\n  <thead>\n    <tr style=\"text-align: right;\">\n      <th></th>\n      <th>Unnamed: 0</th>\n      <th>accuracy</th>\n      <th>failauc</th>\n      <th>failap_suc</th>\n      <th>failap_err</th>\n      <th>mce</th>\n      <th>ece</th>\n      <th>e-aurc</th>\n      <th>aurc</th>\n      <th>fpr@95tpr</th>\n    </tr>\n    <tr>\n      <th>confid</th>\n      <th></th>\n      <th></th>\n      <th></th>\n      <th></th>\n      <th></th>\n      <th></th>\n      <th></th>\n      <th></th>\n      <th></th>\n      <th></th>\n    </tr>\n  </thead>\n  <tbody>\n    <tr>\n      <th>det_mcp</th>\n      <td>14</td>\n      <td>0.9522</td>\n      <td>0.9328</td>\n      <td>0.9952</td>\n      <td>0.4866</td>\n      <td>0.4812</td>\n      <td>0.0264</td>\n      <td>0.0044</td>\n      <td>0.0056</td>\n      <td>0.2930</td>\n    </tr>\n    <tr>\n      <th>det_pe</th>\n      <td>15</td>\n      <td>0.9522</td>\n      <td>0.9338</td>\n      <td>0.9956</td>\n      <td>0.4978</td>\n      <td>0.5448</td>\n      <td>0.0172</td>\n      <td>0.0042</td>\n      <td>0.0054</td>\n      <td>0.2880</td>\n    </tr>\n    <tr>\n      <th>mcd_ee</th>\n      <td>18</td>\n      <td>0.9522</td>\n      <td>0.9322</td>\n      <td>0.9956</td>\n      <td>0.4732</td>\n      <td>0.5242</td>\n      <td>0.0126</td>\n      <td>0.0044</td>\n      <td>0.0054</td>\n      <td>0.3218</td>\n    </tr>\n    <tr>\n      <th>mcd_mcp</th>\n      <td>16</td>\n      <td>0.9522</td>\n      <td>0.9340</td>\n      <td>0.9956</td>\n      <td>0.5054</td>\n      <td>0.2372</td>\n      <td>0.0102</td>\n      <td>0.0042</td>\n      <td>0.0054</td>\n      <td>0.2844</td>\n    </tr>\n    <tr>\n      <th>mcd_mi</th>\n      <td>19</td>\n      <td>0.9522</td>\n      <td>0.9290</td>\n      <td>0.9954</td>\n      <td>0.4424</td>\n      <td>0.5586</td>\n      <td>0.0258</td>\n      <td>0.0044</td>\n      <td>0.0056</td>\n      <td>0.3348</td>\n    </tr>\n    <tr>\n      <th>mcd_pe</th>\n      <td>17</td>\n      <td>0.9522</td>\n      <td>0.9322</td>\n      <td>0.9956</td>\n      <td>0.4814</td>\n      <td>0.3292</td>\n      <td>0.0268</td>\n      <td>0.0044</td>\n      <td>0.0054</td>\n      <td>0.3114</td>\n    </tr>\n    <tr>\n      <th>mcd_sv</th>\n      <td>20</td>\n      <td>0.9522</td>\n      <td>0.9276</td>\n      <td>0.9952</td>\n      <td>0.4154</td>\n      <td>0.4462</td>\n      <td>0.0312</td>\n      <td>0.0050</td>\n      <td>0.0060</td>\n      <td>0.3090</td>\n    </tr>\n  </tbody>\n</table>\n</div>"
     },
     "execution_count": 19,
     "metadata": {},
     "output_type": "execute_result"
    }
   ],
   "source": [
    "df_confid"
   ],
   "metadata": {
    "collapsed": false,
    "pycharm": {
     "name": "#%%\n"
    }
   }
  },
  {
   "cell_type": "code",
   "execution_count": null,
   "outputs": [],
   "source": [],
   "metadata": {
    "collapsed": false,
    "pycharm": {
     "name": "#%%\n"
    }
   }
  }
 ],
 "metadata": {
  "kernelspec": {
   "display_name": "Python 3",
   "language": "python",
   "name": "python3"
  },
  "language_info": {
   "codemirror_mode": {
    "name": "ipython",
    "version": 2
   },
   "file_extension": ".py",
   "mimetype": "text/x-python",
   "name": "python",
   "nbconvert_exporter": "python",
   "pygments_lexer": "ipython2",
   "version": "2.7.6"
  }
 },
 "nbformat": 4,
 "nbformat_minor": 0
}