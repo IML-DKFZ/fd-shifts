{
 "cells": [
  {
   "cell_type": "code",
   "execution_count": null,
   "outputs": [],
   "source": [],
   "metadata": {
    "collapsed": false,
    "pycharm": {
     "name": "#%%\n"
    }
   }
  },
  {
   "cell_type": "code",
   "execution_count": null,
   "outputs": [],
   "source": [],
   "metadata": {
    "collapsed": false,
    "pycharm": {
     "name": "#%%\n"
    }
   }
  },
  {
   "cell_type": "code",
   "execution_count": null,
   "outputs": [],
   "source": [],
   "metadata": {
    "collapsed": false,
    "pycharm": {
     "name": "#%%\n"
    }
   }
  },
  {
   "cell_type": "code",
   "execution_count": 3,
   "outputs": [],
   "source": [
    "import pandas as pd\n",
    "import matplotlib.pyplot as plt\n",
    "import seaborn as sns\n",
    "\n"
   ],
   "metadata": {
    "collapsed": false,
    "pycharm": {
     "name": "#%%\n"
    }
   }
  },
  {
   "cell_type": "code",
   "execution_count": 4,
   "outputs": [],
   "source": [
    "in_path = \"/Users/Paul/research/files/analysis/cifar_paper_sweep.csv\"\n",
    "df = pd.read_csv(in_path)"
   ],
   "metadata": {
    "collapsed": false,
    "pycharm": {
     "name": "#%%\n"
    }
   }
  },
  {
   "cell_type": "code",
   "execution_count": 5,
   "outputs": [
    {
     "data": {
      "text/plain": "2575"
     },
     "execution_count": 5,
     "metadata": {},
     "output_type": "execute_result"
    }
   ],
   "source": [
    "\n",
    "len(df)"
   ],
   "metadata": {
    "collapsed": false,
    "pycharm": {
     "name": "#%%\n"
    }
   }
  },
  {
   "cell_type": "code",
   "execution_count": 6,
   "outputs": [
    {
     "data": {
      "text/plain": "                                                   Unnamed: 0  name  model  \\\nstudy                                                                        \niid_study                                                 410   410    410   \nnew_class_study_cifar100_original_mode                    135   135    135   \nnew_class_study_cifar100_proposed_mode                    135   135    135   \nnew_class_study_svhn_original_mode                        135   135    135   \nnew_class_study_svhn_proposed_mode                        135   135    135   \nnew_class_study_tinyimagenet_original_mode                135   135    135   \nnew_class_study_tinyimagenet_proposed_mode                135   135    135   \nnew_class_study_tinyimagenet_resize_original_mode         135   135    135   \nnew_class_study_tinyimagenet_resize_proposed_mode         135   135    135   \nnoise_study_1                                             135   135    135   \nnoise_study_2                                             135   135    135   \nnoise_study_3                                             135   135    135   \nnoise_study_4                                             135   135    135   \nnoise_study_5                                             135   135    135   \nval_tuning                                                410   410    410   \n\n                                                   network  fold  confid  \\\nstudy                                                                      \niid_study                                               87   410     410   \nnew_class_study_cifar100_original_mode                  54   135     135   \nnew_class_study_cifar100_proposed_mode                  54   135     135   \nnew_class_study_svhn_original_mode                      54   135     135   \nnew_class_study_svhn_proposed_mode                      54   135     135   \nnew_class_study_tinyimagenet_original_mode              54   135     135   \nnew_class_study_tinyimagenet_proposed_mode              54   135     135   \nnew_class_study_tinyimagenet_resize_original_mode       54   135     135   \nnew_class_study_tinyimagenet_resize_proposed_mode       54   135     135   \nnoise_study_1                                           54   135     135   \nnoise_study_2                                           54   135     135   \nnoise_study_3                                           54   135     135   \nnoise_study_4                                           54   135     135   \nnoise_study_5                                           54   135     135   \nval_tuning                                              87   410     410   \n\n                                                   n_test  accuracy  nll  \\\nstudy                                                                      \niid_study                                             410       410  410   \nnew_class_study_cifar100_original_mode                135       135    0   \nnew_class_study_cifar100_proposed_mode                135       135    0   \nnew_class_study_svhn_original_mode                    135       135    0   \nnew_class_study_svhn_proposed_mode                    135       135    0   \nnew_class_study_tinyimagenet_original_mode            135       135    0   \nnew_class_study_tinyimagenet_proposed_mode            135       135    0   \nnew_class_study_tinyimagenet_resize_original_mode     135       135    0   \nnew_class_study_tinyimagenet_resize_proposed_mode     135       135    0   \nnoise_study_1                                         135       135  135   \nnoise_study_2                                         135       135  135   \nnoise_study_3                                         135       135  135   \nnoise_study_4                                         135       135  135   \nnoise_study_5                                         135       135  135   \nval_tuning                                            410       410  410   \n\n                                                   brier_score  ...  \\\nstudy                                                           ...   \niid_study                                                  410  ...   \nnew_class_study_cifar100_original_mode                       0  ...   \nnew_class_study_cifar100_proposed_mode                       0  ...   \nnew_class_study_svhn_original_mode                           0  ...   \nnew_class_study_svhn_proposed_mode                           0  ...   \nnew_class_study_tinyimagenet_original_mode                   0  ...   \nnew_class_study_tinyimagenet_proposed_mode                   0  ...   \nnew_class_study_tinyimagenet_resize_original_mode            0  ...   \nnew_class_study_tinyimagenet_resize_proposed_mode            0  ...   \nnoise_study_1                                              135  ...   \nnoise_study_2                                              135  ...   \nnoise_study_3                                              135  ...   \nnoise_study_4                                              135  ...   \nnoise_study_5                                              135  ...   \nval_tuning                                                 410  ...   \n\n                                                   risk@90cov  risk@85cov  \\\nstudy                                                                       \niid_study                                                 410         410   \nnew_class_study_cifar100_original_mode                    135         135   \nnew_class_study_cifar100_proposed_mode                    135         135   \nnew_class_study_svhn_original_mode                        135         135   \nnew_class_study_svhn_proposed_mode                        135         135   \nnew_class_study_tinyimagenet_original_mode                135         135   \nnew_class_study_tinyimagenet_proposed_mode                135         135   \nnew_class_study_tinyimagenet_resize_original_mode         135         135   \nnew_class_study_tinyimagenet_resize_proposed_mode         135         135   \nnoise_study_1                                             135         135   \nnoise_study_2                                             135         135   \nnoise_study_3                                             135         135   \nnoise_study_4                                             135         135   \nnoise_study_5                                             135         135   \nval_tuning                                                410         410   \n\n                                                   risk@80cov  risk@75cov  \\\nstudy                                                                       \niid_study                                                 410         410   \nnew_class_study_cifar100_original_mode                    135         135   \nnew_class_study_cifar100_proposed_mode                    135         135   \nnew_class_study_svhn_original_mode                        135         135   \nnew_class_study_svhn_proposed_mode                        135         135   \nnew_class_study_tinyimagenet_original_mode                135         135   \nnew_class_study_tinyimagenet_proposed_mode                135         135   \nnew_class_study_tinyimagenet_resize_original_mode         135         135   \nnew_class_study_tinyimagenet_resize_proposed_mode         135         135   \nnoise_study_1                                             135         135   \nnoise_study_2                                             135         135   \nnoise_study_3                                             135         135   \nnoise_study_4                                             135         135   \nnoise_study_5                                             135         135   \nval_tuning                                                410         410   \n\n                                                   test_risk  test_cov  \\\nstudy                                                                    \niid_study                                                410       410   \nnew_class_study_cifar100_original_mode                   135       135   \nnew_class_study_cifar100_proposed_mode                   135       135   \nnew_class_study_svhn_original_mode                       135       135   \nnew_class_study_svhn_proposed_mode                       135       135   \nnew_class_study_tinyimagenet_original_mode               135       135   \nnew_class_study_tinyimagenet_proposed_mode               135       135   \nnew_class_study_tinyimagenet_resize_original_mode        135       135   \nnew_class_study_tinyimagenet_resize_proposed_mode        135       135   \nnoise_study_1                                            135       135   \nnoise_study_2                                            135       135   \nnoise_study_3                                            135       135   \nnoise_study_4                                            135       135   \nnoise_study_5                                            135       135   \nval_tuning                                               410       410   \n\n                                                   diff_risk  diff_cov  rstar  \\\nstudy                                                                           \niid_study                                                410       410    410   \nnew_class_study_cifar100_original_mode                   135       135    135   \nnew_class_study_cifar100_proposed_mode                   135       135    135   \nnew_class_study_svhn_original_mode                       135       135    135   \nnew_class_study_svhn_proposed_mode                       135       135    135   \nnew_class_study_tinyimagenet_original_mode               135       135    135   \nnew_class_study_tinyimagenet_proposed_mode               135       135    135   \nnew_class_study_tinyimagenet_resize_original_mode        135       135    135   \nnew_class_study_tinyimagenet_resize_proposed_mode        135       135    135   \nnoise_study_1                                            135       135    135   \nnoise_study_2                                            135       135    135   \nnoise_study_3                                            135       135    135   \nnoise_study_4                                            135       135    135   \nnoise_study_5                                            135       135    135   \nval_tuning                                               410       410    410   \n\n                                                   val_theta  \nstudy                                                         \niid_study                                                410  \nnew_class_study_cifar100_original_mode                   135  \nnew_class_study_cifar100_proposed_mode                   135  \nnew_class_study_svhn_original_mode                       135  \nnew_class_study_svhn_proposed_mode                       135  \nnew_class_study_tinyimagenet_original_mode               135  \nnew_class_study_tinyimagenet_proposed_mode               135  \nnew_class_study_tinyimagenet_resize_original_mode        135  \nnew_class_study_tinyimagenet_resize_proposed_mode        135  \nnoise_study_1                                            135  \nnoise_study_2                                            135  \nnoise_study_3                                            135  \nnoise_study_4                                            135  \nnoise_study_5                                            135  \nval_tuning                                               410  \n\n[15 rows x 30 columns]",
      "text/html": "<div>\n<style scoped>\n    .dataframe tbody tr th:only-of-type {\n        vertical-align: middle;\n    }\n\n    .dataframe tbody tr th {\n        vertical-align: top;\n    }\n\n    .dataframe thead th {\n        text-align: right;\n    }\n</style>\n<table border=\"1\" class=\"dataframe\">\n  <thead>\n    <tr style=\"text-align: right;\">\n      <th></th>\n      <th>Unnamed: 0</th>\n      <th>name</th>\n      <th>model</th>\n      <th>network</th>\n      <th>fold</th>\n      <th>confid</th>\n      <th>n_test</th>\n      <th>accuracy</th>\n      <th>nll</th>\n      <th>brier_score</th>\n      <th>...</th>\n      <th>risk@90cov</th>\n      <th>risk@85cov</th>\n      <th>risk@80cov</th>\n      <th>risk@75cov</th>\n      <th>test_risk</th>\n      <th>test_cov</th>\n      <th>diff_risk</th>\n      <th>diff_cov</th>\n      <th>rstar</th>\n      <th>val_theta</th>\n    </tr>\n    <tr>\n      <th>study</th>\n      <th></th>\n      <th></th>\n      <th></th>\n      <th></th>\n      <th></th>\n      <th></th>\n      <th></th>\n      <th></th>\n      <th></th>\n      <th></th>\n      <th></th>\n      <th></th>\n      <th></th>\n      <th></th>\n      <th></th>\n      <th></th>\n      <th></th>\n      <th></th>\n      <th></th>\n      <th></th>\n      <th></th>\n    </tr>\n  </thead>\n  <tbody>\n    <tr>\n      <th>iid_study</th>\n      <td>410</td>\n      <td>410</td>\n      <td>410</td>\n      <td>87</td>\n      <td>410</td>\n      <td>410</td>\n      <td>410</td>\n      <td>410</td>\n      <td>410</td>\n      <td>410</td>\n      <td>...</td>\n      <td>410</td>\n      <td>410</td>\n      <td>410</td>\n      <td>410</td>\n      <td>410</td>\n      <td>410</td>\n      <td>410</td>\n      <td>410</td>\n      <td>410</td>\n      <td>410</td>\n    </tr>\n    <tr>\n      <th>new_class_study_cifar100_original_mode</th>\n      <td>135</td>\n      <td>135</td>\n      <td>135</td>\n      <td>54</td>\n      <td>135</td>\n      <td>135</td>\n      <td>135</td>\n      <td>135</td>\n      <td>0</td>\n      <td>0</td>\n      <td>...</td>\n      <td>135</td>\n      <td>135</td>\n      <td>135</td>\n      <td>135</td>\n      <td>135</td>\n      <td>135</td>\n      <td>135</td>\n      <td>135</td>\n      <td>135</td>\n      <td>135</td>\n    </tr>\n    <tr>\n      <th>new_class_study_cifar100_proposed_mode</th>\n      <td>135</td>\n      <td>135</td>\n      <td>135</td>\n      <td>54</td>\n      <td>135</td>\n      <td>135</td>\n      <td>135</td>\n      <td>135</td>\n      <td>0</td>\n      <td>0</td>\n      <td>...</td>\n      <td>135</td>\n      <td>135</td>\n      <td>135</td>\n      <td>135</td>\n      <td>135</td>\n      <td>135</td>\n      <td>135</td>\n      <td>135</td>\n      <td>135</td>\n      <td>135</td>\n    </tr>\n    <tr>\n      <th>new_class_study_svhn_original_mode</th>\n      <td>135</td>\n      <td>135</td>\n      <td>135</td>\n      <td>54</td>\n      <td>135</td>\n      <td>135</td>\n      <td>135</td>\n      <td>135</td>\n      <td>0</td>\n      <td>0</td>\n      <td>...</td>\n      <td>135</td>\n      <td>135</td>\n      <td>135</td>\n      <td>135</td>\n      <td>135</td>\n      <td>135</td>\n      <td>135</td>\n      <td>135</td>\n      <td>135</td>\n      <td>135</td>\n    </tr>\n    <tr>\n      <th>new_class_study_svhn_proposed_mode</th>\n      <td>135</td>\n      <td>135</td>\n      <td>135</td>\n      <td>54</td>\n      <td>135</td>\n      <td>135</td>\n      <td>135</td>\n      <td>135</td>\n      <td>0</td>\n      <td>0</td>\n      <td>...</td>\n      <td>135</td>\n      <td>135</td>\n      <td>135</td>\n      <td>135</td>\n      <td>135</td>\n      <td>135</td>\n      <td>135</td>\n      <td>135</td>\n      <td>135</td>\n      <td>135</td>\n    </tr>\n    <tr>\n      <th>new_class_study_tinyimagenet_original_mode</th>\n      <td>135</td>\n      <td>135</td>\n      <td>135</td>\n      <td>54</td>\n      <td>135</td>\n      <td>135</td>\n      <td>135</td>\n      <td>135</td>\n      <td>0</td>\n      <td>0</td>\n      <td>...</td>\n      <td>135</td>\n      <td>135</td>\n      <td>135</td>\n      <td>135</td>\n      <td>135</td>\n      <td>135</td>\n      <td>135</td>\n      <td>135</td>\n      <td>135</td>\n      <td>135</td>\n    </tr>\n    <tr>\n      <th>new_class_study_tinyimagenet_proposed_mode</th>\n      <td>135</td>\n      <td>135</td>\n      <td>135</td>\n      <td>54</td>\n      <td>135</td>\n      <td>135</td>\n      <td>135</td>\n      <td>135</td>\n      <td>0</td>\n      <td>0</td>\n      <td>...</td>\n      <td>135</td>\n      <td>135</td>\n      <td>135</td>\n      <td>135</td>\n      <td>135</td>\n      <td>135</td>\n      <td>135</td>\n      <td>135</td>\n      <td>135</td>\n      <td>135</td>\n    </tr>\n    <tr>\n      <th>new_class_study_tinyimagenet_resize_original_mode</th>\n      <td>135</td>\n      <td>135</td>\n      <td>135</td>\n      <td>54</td>\n      <td>135</td>\n      <td>135</td>\n      <td>135</td>\n      <td>135</td>\n      <td>0</td>\n      <td>0</td>\n      <td>...</td>\n      <td>135</td>\n      <td>135</td>\n      <td>135</td>\n      <td>135</td>\n      <td>135</td>\n      <td>135</td>\n      <td>135</td>\n      <td>135</td>\n      <td>135</td>\n      <td>135</td>\n    </tr>\n    <tr>\n      <th>new_class_study_tinyimagenet_resize_proposed_mode</th>\n      <td>135</td>\n      <td>135</td>\n      <td>135</td>\n      <td>54</td>\n      <td>135</td>\n      <td>135</td>\n      <td>135</td>\n      <td>135</td>\n      <td>0</td>\n      <td>0</td>\n      <td>...</td>\n      <td>135</td>\n      <td>135</td>\n      <td>135</td>\n      <td>135</td>\n      <td>135</td>\n      <td>135</td>\n      <td>135</td>\n      <td>135</td>\n      <td>135</td>\n      <td>135</td>\n    </tr>\n    <tr>\n      <th>noise_study_1</th>\n      <td>135</td>\n      <td>135</td>\n      <td>135</td>\n      <td>54</td>\n      <td>135</td>\n      <td>135</td>\n      <td>135</td>\n      <td>135</td>\n      <td>135</td>\n      <td>135</td>\n      <td>...</td>\n      <td>135</td>\n      <td>135</td>\n      <td>135</td>\n      <td>135</td>\n      <td>135</td>\n      <td>135</td>\n      <td>135</td>\n      <td>135</td>\n      <td>135</td>\n      <td>135</td>\n    </tr>\n    <tr>\n      <th>noise_study_2</th>\n      <td>135</td>\n      <td>135</td>\n      <td>135</td>\n      <td>54</td>\n      <td>135</td>\n      <td>135</td>\n      <td>135</td>\n      <td>135</td>\n      <td>135</td>\n      <td>135</td>\n      <td>...</td>\n      <td>135</td>\n      <td>135</td>\n      <td>135</td>\n      <td>135</td>\n      <td>135</td>\n      <td>135</td>\n      <td>135</td>\n      <td>135</td>\n      <td>135</td>\n      <td>135</td>\n    </tr>\n    <tr>\n      <th>noise_study_3</th>\n      <td>135</td>\n      <td>135</td>\n      <td>135</td>\n      <td>54</td>\n      <td>135</td>\n      <td>135</td>\n      <td>135</td>\n      <td>135</td>\n      <td>135</td>\n      <td>135</td>\n      <td>...</td>\n      <td>135</td>\n      <td>135</td>\n      <td>135</td>\n      <td>135</td>\n      <td>135</td>\n      <td>135</td>\n      <td>135</td>\n      <td>135</td>\n      <td>135</td>\n      <td>135</td>\n    </tr>\n    <tr>\n      <th>noise_study_4</th>\n      <td>135</td>\n      <td>135</td>\n      <td>135</td>\n      <td>54</td>\n      <td>135</td>\n      <td>135</td>\n      <td>135</td>\n      <td>135</td>\n      <td>135</td>\n      <td>135</td>\n      <td>...</td>\n      <td>135</td>\n      <td>135</td>\n      <td>135</td>\n      <td>135</td>\n      <td>135</td>\n      <td>135</td>\n      <td>135</td>\n      <td>135</td>\n      <td>135</td>\n      <td>135</td>\n    </tr>\n    <tr>\n      <th>noise_study_5</th>\n      <td>135</td>\n      <td>135</td>\n      <td>135</td>\n      <td>54</td>\n      <td>135</td>\n      <td>135</td>\n      <td>135</td>\n      <td>135</td>\n      <td>135</td>\n      <td>135</td>\n      <td>...</td>\n      <td>135</td>\n      <td>135</td>\n      <td>135</td>\n      <td>135</td>\n      <td>135</td>\n      <td>135</td>\n      <td>135</td>\n      <td>135</td>\n      <td>135</td>\n      <td>135</td>\n    </tr>\n    <tr>\n      <th>val_tuning</th>\n      <td>410</td>\n      <td>410</td>\n      <td>410</td>\n      <td>87</td>\n      <td>410</td>\n      <td>410</td>\n      <td>410</td>\n      <td>410</td>\n      <td>410</td>\n      <td>410</td>\n      <td>...</td>\n      <td>410</td>\n      <td>410</td>\n      <td>410</td>\n      <td>410</td>\n      <td>410</td>\n      <td>410</td>\n      <td>410</td>\n      <td>410</td>\n      <td>410</td>\n      <td>410</td>\n    </tr>\n  </tbody>\n</table>\n<p>15 rows × 30 columns</p>\n</div>"
     },
     "execution_count": 6,
     "metadata": {},
     "output_type": "execute_result"
    }
   ],
   "source": [
    "df.groupby(\"study\").count()"
   ],
   "metadata": {
    "collapsed": false,
    "pycharm": {
     "name": "#%%\n"
    }
   }
  },
  {
   "cell_type": "code",
   "execution_count": null,
   "outputs": [],
   "source": [
    "df_clean = df.drop_duplicates(subset=[\"name\", \"study\", \"model\", \"network\", \"confid\"])"
   ],
   "metadata": {
    "collapsed": false,
    "pycharm": {
     "name": "#%%\n"
    }
   }
  },
  {
   "cell_type": "code",
   "execution_count": null,
   "outputs": [],
   "source": [
    "len(df_clean)"
   ],
   "metadata": {
    "collapsed": false,
    "pycharm": {
     "name": "#%%\n"
    }
   }
  },
  {
   "cell_type": "code",
   "execution_count": null,
   "outputs": [],
   "source": [
    "df_clean.groupby(\"name\").count()\n"
   ],
   "metadata": {
    "collapsed": false,
    "pycharm": {
     "name": "#%%\n"
    }
   }
  },
  {
   "cell_type": "code",
   "execution_count": null,
   "outputs": [],
   "source": [
    "df_clean[df_clean.name==\"det_devries_bbvgg16_doTrue_normTrue_schedCosineAnnealing\"]"
   ],
   "metadata": {
    "collapsed": false,
    "pycharm": {
     "name": "#%%\n"
    }
   }
  },
  {
   "cell_type": "code",
   "execution_count": null,
   "outputs": [],
   "source": [
    "df = df_clean\n",
    "df[:10]"
   ],
   "metadata": {
    "collapsed": false,
    "pycharm": {
     "name": "#%%\n"
    }
   }
  },
  {
   "cell_type": "code",
   "execution_count": null,
   "outputs": [],
   "source": [
    "df = df.dropna(subset=[\"name\"])"
   ],
   "metadata": {
    "collapsed": false,
    "pycharm": {
     "name": "#%%\n"
    }
   }
  },
  {
   "cell_type": "code",
   "execution_count": null,
   "outputs": [],
   "source": [
    "df[df.name==\"devries_model_bbvgg13_do1_run1_rew2.2_schedCosineAnnealing_coTrue\"]\n"
   ],
   "metadata": {
    "collapsed": false,
    "pycharm": {
     "name": "#%%\n"
    }
   }
  },
  {
   "cell_type": "code",
   "execution_count": null,
   "outputs": [],
   "source": [
    "pd.set_option('display.max_rows', None)\n",
    "pd.set_option('display.max_columns', None)\n",
    "pd.set_option('display.width', None)\n",
    "pd.set_option('display.max_colwidth', -1)\n",
    "meanprops = dict(linestyle='-', linewidth=1, color='k', alpha=0.5)\n",
    "whiskerprops=dict(linestyle='-', linewidth=0)\n",
    "#df[(df.study.str.contains(\"tinyimagenet_resize_original\")) & ~(df.name.str.contains(\"det\"))][[\"name\", \"confid\", \"accuracy\", \"failauc\", \"failap_err\", \"aurc\"]].sort_values(by=\"failauc\", ascending=False)"
   ],
   "metadata": {
    "collapsed": false,
    "pycharm": {
     "name": "#%%\n"
    }
   }
  },
  {
   "cell_type": "code",
   "execution_count": null,
   "outputs": [],
   "source": [
    "df[\"backbone\"] = df.apply(lambda row: row[\"name\"].split(\"bb\")[1].split(\"_\")[0], axis=1)\n",
    "df[\"dropout\"] = df.apply(lambda row: row[\"name\"].split(\"do\")[1].split(\"_\")[0], axis=1)\n",
    "df[\"model\"] = df.apply(lambda row: row[\"name\"].split(\"_\")[0], axis=1)\n",
    "df[\"run\"] = df.apply(lambda row: row[\"name\"].split(\"run\")[1].split(\"_\")[0] if \"run\" in row[\"name\"] else \"-1\", axis=1)\n",
    "# df[\"relu\"] = df.apply(lambda row: \"last\" if (\"last\" in row[\"name\"] or row[\"backbone\"]==\"vgg\") else \"first\", axis=1)\n",
    "# df[\"reflect\"] = df.apply(lambda row: False if (\"noreflect\" in row[\"name\"] or row[\"backbone\"]==\"vgg\") else True, axis=1)\n",
    "df[\"rew\"] = df.apply(lambda row: row[\"name\"].split(\"_rew\")[1].split(\"_\")[0], axis=1)\n",
    "df[\"sched\"] = df.apply(lambda row: \"Multi\" if \"MultiStep\" in row[\"name\"] else \"Cosine\", axis=1)\n",
    "df[\"co\"] = df.apply(lambda row: True if \"coTrue\" in row[\"name\"] else False, axis=1)\n",
    "\n",
    "\n",
    "# df[\"ms\"] = df.apply(lambda row: False if \"msFalse\" in row[\"name\"] else True, axis=1)\n",
    "# df.backbone.tolist()"
   ],
   "metadata": {
    "collapsed": false,
    "pycharm": {
     "name": "#%%\n"
    }
   }
  },
  {
   "cell_type": "code",
   "execution_count": null,
   "outputs": [],
   "source": [
    "non_agg_columns = [\"study\", \"model\", \"backbone\", \"rew\", \"dropout\", \"sched\", \"confid\", \"co\"]\n",
    "import numpy as np\n",
    "dfg = df.groupby(by=non_agg_columns).mean().reset_index()\n",
    "dfg_std = df.groupby(by=non_agg_columns).std().reset_index()\n",
    "rename_dict = {k:\"{}_std\".format(k) for k in dfg.columns if k not in non_agg_columns }\n",
    "dfg_std = dfg_std.rename(columns=rename_dict)\n",
    "print(len(df), len(dfg), len(dfg_std))\n",
    "print(dfg_std.columns)\n",
    "print(rename_dict)"
   ],
   "metadata": {
    "collapsed": false,
    "pycharm": {
     "name": "#%%\n"
    }
   }
  },
  {
   "cell_type": "code",
   "execution_count": null,
   "outputs": [],
   "source": [
    "study= \"iid_study\"\n",
    "select = (dfg.study == study)\n",
    "data =  dfg[select]\n",
    "data_std =  dfg_std[select]\n",
    "# data =  df[(df.study == \"new_class_study_tinyimagenet_resize_original_mode\")]\n",
    "#data =  df[(df.study == \"iid_study\")  & (df.backbone == \"vgg16\") ]"
   ],
   "metadata": {
    "collapsed": false,
    "pycharm": {
     "name": "#%%\n"
    }
   }
  },
  {
   "cell_type": "code",
   "execution_count": null,
   "outputs": [],
   "source": [
    "\n",
    "\n",
    "plot_data = data[ (data.sched.str.contains(\"Cosine\")) & (data.co == True)]# & (data[\"ne\"].str.contains(\"250\")) & (data[\"ap\"]==False)]\n",
    "scale = 5\n",
    "sns.set_style(\"whitegrid\")\n",
    "sns.set_context(\"paper\", font_scale=scale * 0.3)\n",
    "dims = [\"confid\", \"model\", \"backbone\", \"dropout\", \"rew\", \"sched\", \"co\"]\n",
    "metrics = [\"accuracy\", \"failauc\", \"failap_err\", \"aurc\"]\n",
    "\n",
    "f, axs = plt.subplots(nrows=len(dims), ncols=len(metrics), figsize=(len(metrics)*scale, len(dims)*scale))\n",
    "for xix, dim in enumerate(dims):\n",
    "    for yix, metric in enumerate(metrics):\n",
    "        y = metric\n",
    "        sns.stripplot(ax=axs[xix, yix], x=dim, y=metric, data=plot_data, s = scale*0.8)\n",
    "        sns.boxplot(ax=axs[xix, yix], x=dim, y=metric, data=plot_data, saturation=0, showbox=False, showcaps=False, showfliers=False, whiskerprops=whiskerprops, showmeans=True, meanprops=meanprops, meanline=True)\n",
    "        axs[xix, yix].set_xticklabels(axs[xix, yix].get_xticklabels(),rotation=90)\n",
    "        # if \"iid\" in study and metric == \"aurc\":\n",
    "        #     axs[xix, yix].set_ylim(4, 8)\n",
    "        # if \"iid\" in study and metric == \"failauc\":\n",
    "        #     axs[xix, yix].set_ylim(0.90, 0.96)\n",
    "plt.tight_layout()\n",
    "# plt.savefig(\"/Users/Paul/research/files/analysis/{}_cifar10.png\".format(study))"
   ],
   "metadata": {
    "collapsed": false,
    "pycharm": {
     "name": "#%%\n"
    }
   }
  },
  {
   "cell_type": "code",
   "execution_count": null,
   "outputs": [],
   "source": [
    "std_columns = [c for c in data_std.columns if \"std\"in c]\n",
    "for s in std_columns:\n",
    "    data[s] = data_std[s]\n",
    "\n",
    "print(data.columns)\n",
    "print(data_std.columns)\n",
    "print(len(data))\n",
    "data[[\"model\", \"backbone\",  \"dropout\", \"co\", \"confid\", \"sched\", \"rew\", \"accuracy\", \"accuracy_std\", \"failauc\", \"failauc_std\", \"aurc\", \"aurc_std\", \"failap_suc\", \"risk@100cov\", \"risk@95cov\", \"risk@90cov\", \"risk@85cov\", \"risk@80cov\"]].sort_values(by=\"aurc\", ascending=True)"
   ],
   "metadata": {
    "collapsed": false,
    "pycharm": {
     "name": "#%%\n"
    }
   }
  },
  {
   "cell_type": "code",
   "execution_count": null,
   "outputs": [],
   "source": [
    "df[(df.study == \"iid_study\") & (df.dropout == \"1\")]"
   ],
   "metadata": {
    "collapsed": false,
    "pycharm": {
     "name": "#%%\n"
    }
   }
  },
  {
   "cell_type": "code",
   "execution_count": null,
   "outputs": [],
   "source": [
    "import numpy as np\n",
    "np.std([0.95000, 0.94633, 1])\n",
    "np.std([95.000, 94.633], ddof=1)"
   ],
   "metadata": {
    "collapsed": false,
    "pycharm": {
     "name": "#%%\n"
    }
   }
  },
  {
   "cell_type": "code",
   "execution_count": null,
   "outputs": [],
   "source": [
    "\n",
    "\n",
    "\n"
   ],
   "metadata": {
    "collapsed": false,
    "pycharm": {
     "name": "#%%\n"
    }
   }
  }
 ],
 "metadata": {
  "kernelspec": {
   "display_name": "Python 3",
   "language": "python",
   "name": "python3"
  },
  "language_info": {
   "codemirror_mode": {
    "name": "ipython",
    "version": 2
   },
   "file_extension": ".py",
   "mimetype": "text/x-python",
   "name": "python",
   "nbconvert_exporter": "python",
   "pygments_lexer": "ipython2",
   "version": "2.7.6"
  }
 },
 "nbformat": 4,
 "nbformat_minor": 0
}