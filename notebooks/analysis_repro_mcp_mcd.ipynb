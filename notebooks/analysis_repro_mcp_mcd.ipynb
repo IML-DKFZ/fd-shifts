{
 "cells": [
  {
   "cell_type": "code",
   "execution_count": 2,
   "metadata": {
    "collapsed": true
   },
   "outputs": [
    {
     "name": "stdout",
     "output_type": "stream",
     "text": [
      "['/Users/Paul/research/files/analysis/final_repro/analysis_metrics.csv', '/Users/Paul/research/files/analysis/final_repro/analysis_metrics 3.csv', '/Users/Paul/research/files/analysis/final_repro/analysis_metrics 2.csv', '/Users/Paul/research/files/analysis/final_repro/analysis_metrics 5.csv', '/Users/Paul/research/files/analysis/final_repro/analysis_metrics 4.csv']\n"
     ]
    }
   ],
   "source": [
    "# THIS IS THE REPRO IPYNB FOR MCP_MCD CONFIDNET PAPER!!!\n",
    "import pandas as pd\n",
    "import os\n",
    "# in_path_list = [\n",
    "#                 \"/Users/Paul/research/files/analysis/full_log/analysis_metrics.csv\",\n",
    "#                 \"/Users/Paul/research/files/analysis/full_log/analysis_metrics 2.csv\",\n",
    "#                 \"/Users/Paul/research/files/analysis/full_log/analysis_metrics 3.csv\"]\n",
    "\n",
    "# in_path_list = [\n",
    "#                 \"//Users/Paul/research/files/analysis/repro_mcd_mcp/metrics2.csv\",\n",
    "#                 \"/Users/Paul/research/files/analysis/repro_mcd_mcp/metrics3.csv\",\n",
    "#                 \"/Users/Paul/research/files/analysis/repro_mcd_mcp/metrics4.csv\",\n",
    "#                 \"/Users/Paul/research/files/analysis/full_log/full_log_metrics.csv\",\n",
    "#                 \"/Users/Paul/research/files/analysis/full_log/full_log_metrics 2.csv\",\n",
    "#                 \"/Users/Paul/research/files/analysis/full_log/full_log_metrics 3.csv\"]\n",
    "dir_path = \"/Users/Paul/research/files/analysis/final_repro\"\n",
    "in_path_list = [os.path.join(dir_path, x) for x in os.listdir(dir_path)]\n",
    "print(in_path_list)"
   ]
  },
  {
   "cell_type": "code",
   "execution_count": 3,
   "outputs": [],
   "source": [
    "dflist = []\n",
    "for p in in_path_list:\n",
    " tmp_df = pd.read_csv(p)\n",
    " tmp_df[\"name\"] = p.split(\"/\")[-1]\n",
    " dflist.append(tmp_df)\n",
    "\n",
    "df = pd.concat(dflist)"
   ],
   "metadata": {
    "collapsed": false,
    "pycharm": {
     "name": "#%%\n"
    }
   }
  },
  {
   "cell_type": "code",
   "execution_count": 4,
   "outputs": [
    {
     "data": {
      "text/plain": "         Unnamed: 0  accuracy    nll  brier_score  failauc  failap_suc  \\\nconfid                                                                   \ndet_mcp           0     0.954  0.022        0.072    0.929       0.995   \nmcd_pe            3     0.955  0.018        0.070    0.928       0.995   \ndet_mcp           0     0.955  0.018        0.068    0.931       0.995   \nmcd_pe            3     0.956  0.017        0.069    0.927       0.995   \ndet_mcp           0     0.955  0.020        0.070    0.927       0.995   \nmcd_pe            3     0.955  0.018        0.070    0.924       0.995   \ndet_mcp           0     0.953  0.019        0.072    0.927       0.995   \nmcd_pe            3     0.954  0.018        0.073    0.926       0.995   \ndet_mcp           0     0.955  0.019        0.069    0.929       0.995   \nmcd_pe            3     0.955  0.017        0.070    0.927       0.995   \n\n         failap_err    mce    ece  e-aurc   aurc  fpr@95tpr  \nconfid                                                       \ndet_mcp       0.496  0.238  0.023   4.257  5.347      0.308  \nmcd_pe        0.431  0.422  0.035   4.671  5.717      0.361  \ndet_mcp       0.481  0.247  0.014   4.265  5.287      0.284  \nmcd_pe        0.436  0.298  0.047   4.365  5.352      0.353  \ndet_mcp       0.468  0.220  0.018   4.334  5.354      0.305  \nmcd_pe        0.413  0.379  0.043   4.502  5.517      0.375  \ndet_mcp       0.476  0.126  0.016   4.612  5.737      0.320  \nmcd_pe        0.437  0.252  0.049   4.625  5.721      0.352  \ndet_mcp       0.474  0.234  0.017   4.282  5.316      0.306  \nmcd_pe        0.437  0.304  0.044   4.533  5.557      0.358  ",
      "text/html": "<div>\n<style scoped>\n    .dataframe tbody tr th:only-of-type {\n        vertical-align: middle;\n    }\n\n    .dataframe tbody tr th {\n        vertical-align: top;\n    }\n\n    .dataframe thead th {\n        text-align: right;\n    }\n</style>\n<table border=\"1\" class=\"dataframe\">\n  <thead>\n    <tr style=\"text-align: right;\">\n      <th></th>\n      <th>Unnamed: 0</th>\n      <th>accuracy</th>\n      <th>nll</th>\n      <th>brier_score</th>\n      <th>failauc</th>\n      <th>failap_suc</th>\n      <th>failap_err</th>\n      <th>mce</th>\n      <th>ece</th>\n      <th>e-aurc</th>\n      <th>aurc</th>\n      <th>fpr@95tpr</th>\n    </tr>\n    <tr>\n      <th>confid</th>\n      <th></th>\n      <th></th>\n      <th></th>\n      <th></th>\n      <th></th>\n      <th></th>\n      <th></th>\n      <th></th>\n      <th></th>\n      <th></th>\n      <th></th>\n      <th></th>\n    </tr>\n  </thead>\n  <tbody>\n    <tr>\n      <th>det_mcp</th>\n      <td>0</td>\n      <td>0.954</td>\n      <td>0.022</td>\n      <td>0.072</td>\n      <td>0.929</td>\n      <td>0.995</td>\n      <td>0.496</td>\n      <td>0.238</td>\n      <td>0.023</td>\n      <td>4.257</td>\n      <td>5.347</td>\n      <td>0.308</td>\n    </tr>\n    <tr>\n      <th>mcd_pe</th>\n      <td>3</td>\n      <td>0.955</td>\n      <td>0.018</td>\n      <td>0.070</td>\n      <td>0.928</td>\n      <td>0.995</td>\n      <td>0.431</td>\n      <td>0.422</td>\n      <td>0.035</td>\n      <td>4.671</td>\n      <td>5.717</td>\n      <td>0.361</td>\n    </tr>\n    <tr>\n      <th>det_mcp</th>\n      <td>0</td>\n      <td>0.955</td>\n      <td>0.018</td>\n      <td>0.068</td>\n      <td>0.931</td>\n      <td>0.995</td>\n      <td>0.481</td>\n      <td>0.247</td>\n      <td>0.014</td>\n      <td>4.265</td>\n      <td>5.287</td>\n      <td>0.284</td>\n    </tr>\n    <tr>\n      <th>mcd_pe</th>\n      <td>3</td>\n      <td>0.956</td>\n      <td>0.017</td>\n      <td>0.069</td>\n      <td>0.927</td>\n      <td>0.995</td>\n      <td>0.436</td>\n      <td>0.298</td>\n      <td>0.047</td>\n      <td>4.365</td>\n      <td>5.352</td>\n      <td>0.353</td>\n    </tr>\n    <tr>\n      <th>det_mcp</th>\n      <td>0</td>\n      <td>0.955</td>\n      <td>0.020</td>\n      <td>0.070</td>\n      <td>0.927</td>\n      <td>0.995</td>\n      <td>0.468</td>\n      <td>0.220</td>\n      <td>0.018</td>\n      <td>4.334</td>\n      <td>5.354</td>\n      <td>0.305</td>\n    </tr>\n    <tr>\n      <th>mcd_pe</th>\n      <td>3</td>\n      <td>0.955</td>\n      <td>0.018</td>\n      <td>0.070</td>\n      <td>0.924</td>\n      <td>0.995</td>\n      <td>0.413</td>\n      <td>0.379</td>\n      <td>0.043</td>\n      <td>4.502</td>\n      <td>5.517</td>\n      <td>0.375</td>\n    </tr>\n    <tr>\n      <th>det_mcp</th>\n      <td>0</td>\n      <td>0.953</td>\n      <td>0.019</td>\n      <td>0.072</td>\n      <td>0.927</td>\n      <td>0.995</td>\n      <td>0.476</td>\n      <td>0.126</td>\n      <td>0.016</td>\n      <td>4.612</td>\n      <td>5.737</td>\n      <td>0.320</td>\n    </tr>\n    <tr>\n      <th>mcd_pe</th>\n      <td>3</td>\n      <td>0.954</td>\n      <td>0.018</td>\n      <td>0.073</td>\n      <td>0.926</td>\n      <td>0.995</td>\n      <td>0.437</td>\n      <td>0.252</td>\n      <td>0.049</td>\n      <td>4.625</td>\n      <td>5.721</td>\n      <td>0.352</td>\n    </tr>\n    <tr>\n      <th>det_mcp</th>\n      <td>0</td>\n      <td>0.955</td>\n      <td>0.019</td>\n      <td>0.069</td>\n      <td>0.929</td>\n      <td>0.995</td>\n      <td>0.474</td>\n      <td>0.234</td>\n      <td>0.017</td>\n      <td>4.282</td>\n      <td>5.316</td>\n      <td>0.306</td>\n    </tr>\n    <tr>\n      <th>mcd_pe</th>\n      <td>3</td>\n      <td>0.955</td>\n      <td>0.017</td>\n      <td>0.070</td>\n      <td>0.927</td>\n      <td>0.995</td>\n      <td>0.437</td>\n      <td>0.304</td>\n      <td>0.044</td>\n      <td>4.533</td>\n      <td>5.557</td>\n      <td>0.358</td>\n    </tr>\n  </tbody>\n</table>\n</div>"
     },
     "execution_count": 4,
     "metadata": {},
     "output_type": "execute_result"
    }
   ],
   "source": [
    "# df_confid = df.groupby(\"confid\", as_index=True).mean().round(3)\n",
    "# select_df =df_confid[(df_confid.index==\"det_mcp\") | (df_confid.index == \"mcd_pe\")]\n",
    "# select_df\n",
    "\n",
    "df_confid = df.round(3)\n",
    "select_df =df_confid[(df_confid.confid==\"det_mcp\") | (df_confid.confid == \"mcd_pe\")]\n",
    "select_df = select_df.drop(\"name\", axis=1)\n",
    "select_df = select_df.drop(\"model\", axis=1)\n",
    "select_df = select_df.set_index(\"confid\")\n",
    "select_df"
   ],
   "metadata": {
    "collapsed": false,
    "pycharm": {
     "name": "#%%\n"
    }
   }
  },
  {
   "cell_type": "code",
   "execution_count": 5,
   "outputs": [],
   "source": [
    "# , \"failap_err\", \"fpr@95tpr\", \"e-aurc\", \"aurc\"\n",
    "tr_df = select_df.transpose()\n",
    "tr_df = tr_df[tr_df.index != \"Unnamed: 0\"]\n",
    "tr_df[\"repro_mcp\"] = [0, 0, 0, 0.932, 0, 0.4818, 0, 0, 4.38, 5.44, 0.3128]\n",
    "tr_df[\"repro_mcd_pe\"] = [0, 0, 0, 0.9285, 0, 0.4387, 0, 0, 4.57, 5.68, 0.366]\n",
    "tr_df[\"myrepro_mcp\"] = [0.955, 0, 0, 0.9260, 0, 0.451, 0, 0, 4.46, 5.51, 0.324]\n",
    "tr_df[\"myrepro_mcd_pe\"] = [0.954, 0, 0, 0.927, 0, 0.445, 0, 0, 4.62, 5.69, 0.3255]\n",
    "tr_df[\"myrepro_mcd_pe2\"] = [0.955, 0, 0, 0.9285, 0, 0.450, 0, 0, 4.39, 5.41, 0.317]\n",
    "tr_df[\"myrepro_mcp2\"] = [0.955, 0, 0, 0.9280, 0, 0.450, 0, 0, 4.21, 5.21, 0.318]"
   ],
   "metadata": {
    "collapsed": false,
    "pycharm": {
     "name": "#%%\n"
    }
   }
  },
  {
   "cell_type": "code",
   "execution_count": 6,
   "outputs": [
    {
     "name": "stdout",
     "output_type": "stream",
     "text": [
      "Index(['det_mcp', 'mcd_pe', 'det_mcp', 'mcd_pe', 'det_mcp', 'mcd_pe',\n",
      "       'det_mcp', 'mcd_pe', 'det_mcp', 'mcd_pe', 'repro_mcp', 'repro_mcd_pe',\n",
      "       'myrepro_mcp', 'myrepro_mcd_pe', 'myrepro_mcd_pe2', 'myrepro_mcp2'],\n",
      "      dtype='object', name='confid')\n",
      "['mcd_pe', 'mcd_pe', 'mcd_pe', 'mcd_pe', 'mcd_pe', 'repro_mcd_pe', 'myrepro_mcd_pe', 'myrepro_mcd_pe2']\n"
     ]
    },
    {
     "data": {
      "text/plain": "confid       repro_mcp  myrepro_mcp2  myrepro_mcp  det_mcp  det_mcp  det_mcp  \\\naccuracy        0.0000         0.955        0.955    0.954    0.955    0.955   \nnll             0.0000         0.000        0.000    0.022    0.018    0.020   \nbrier_score     0.0000         0.000        0.000    0.072    0.068    0.070   \nfailauc         0.9320         0.928        0.926    0.929    0.931    0.927   \nfailap_suc      0.0000         0.000        0.000    0.995    0.995    0.995   \nfailap_err      0.4818         0.450        0.451    0.496    0.481    0.468   \nmce             0.0000         0.000        0.000    0.238    0.247    0.220   \nece             0.0000         0.000        0.000    0.023    0.014    0.018   \ne-aurc          4.3800         4.210        4.460    4.257    4.265    4.334   \naurc            5.4400         5.210        5.510    5.347    5.287    5.354   \nfpr@95tpr       0.3128         0.318        0.324    0.308    0.284    0.305   \n\nconfid       det_mcp  det_mcp  \naccuracy       0.953    0.955  \nnll            0.019    0.019  \nbrier_score    0.072    0.069  \nfailauc        0.927    0.929  \nfailap_suc     0.995    0.995  \nfailap_err     0.476    0.474  \nmce            0.126    0.234  \nece            0.016    0.017  \ne-aurc         4.612    4.282  \naurc           5.737    5.316  \nfpr@95tpr      0.320    0.306  ",
      "text/html": "<div>\n<style scoped>\n    .dataframe tbody tr th:only-of-type {\n        vertical-align: middle;\n    }\n\n    .dataframe tbody tr th {\n        vertical-align: top;\n    }\n\n    .dataframe thead th {\n        text-align: right;\n    }\n</style>\n<table border=\"1\" class=\"dataframe\">\n  <thead>\n    <tr style=\"text-align: right;\">\n      <th>confid</th>\n      <th>repro_mcp</th>\n      <th>myrepro_mcp2</th>\n      <th>myrepro_mcp</th>\n      <th>det_mcp</th>\n      <th>det_mcp</th>\n      <th>det_mcp</th>\n      <th>det_mcp</th>\n      <th>det_mcp</th>\n    </tr>\n  </thead>\n  <tbody>\n    <tr>\n      <th>accuracy</th>\n      <td>0.0000</td>\n      <td>0.955</td>\n      <td>0.955</td>\n      <td>0.954</td>\n      <td>0.955</td>\n      <td>0.955</td>\n      <td>0.953</td>\n      <td>0.955</td>\n    </tr>\n    <tr>\n      <th>nll</th>\n      <td>0.0000</td>\n      <td>0.000</td>\n      <td>0.000</td>\n      <td>0.022</td>\n      <td>0.018</td>\n      <td>0.020</td>\n      <td>0.019</td>\n      <td>0.019</td>\n    </tr>\n    <tr>\n      <th>brier_score</th>\n      <td>0.0000</td>\n      <td>0.000</td>\n      <td>0.000</td>\n      <td>0.072</td>\n      <td>0.068</td>\n      <td>0.070</td>\n      <td>0.072</td>\n      <td>0.069</td>\n    </tr>\n    <tr>\n      <th>failauc</th>\n      <td>0.9320</td>\n      <td>0.928</td>\n      <td>0.926</td>\n      <td>0.929</td>\n      <td>0.931</td>\n      <td>0.927</td>\n      <td>0.927</td>\n      <td>0.929</td>\n    </tr>\n    <tr>\n      <th>failap_suc</th>\n      <td>0.0000</td>\n      <td>0.000</td>\n      <td>0.000</td>\n      <td>0.995</td>\n      <td>0.995</td>\n      <td>0.995</td>\n      <td>0.995</td>\n      <td>0.995</td>\n    </tr>\n    <tr>\n      <th>failap_err</th>\n      <td>0.4818</td>\n      <td>0.450</td>\n      <td>0.451</td>\n      <td>0.496</td>\n      <td>0.481</td>\n      <td>0.468</td>\n      <td>0.476</td>\n      <td>0.474</td>\n    </tr>\n    <tr>\n      <th>mce</th>\n      <td>0.0000</td>\n      <td>0.000</td>\n      <td>0.000</td>\n      <td>0.238</td>\n      <td>0.247</td>\n      <td>0.220</td>\n      <td>0.126</td>\n      <td>0.234</td>\n    </tr>\n    <tr>\n      <th>ece</th>\n      <td>0.0000</td>\n      <td>0.000</td>\n      <td>0.000</td>\n      <td>0.023</td>\n      <td>0.014</td>\n      <td>0.018</td>\n      <td>0.016</td>\n      <td>0.017</td>\n    </tr>\n    <tr>\n      <th>e-aurc</th>\n      <td>4.3800</td>\n      <td>4.210</td>\n      <td>4.460</td>\n      <td>4.257</td>\n      <td>4.265</td>\n      <td>4.334</td>\n      <td>4.612</td>\n      <td>4.282</td>\n    </tr>\n    <tr>\n      <th>aurc</th>\n      <td>5.4400</td>\n      <td>5.210</td>\n      <td>5.510</td>\n      <td>5.347</td>\n      <td>5.287</td>\n      <td>5.354</td>\n      <td>5.737</td>\n      <td>5.316</td>\n    </tr>\n    <tr>\n      <th>fpr@95tpr</th>\n      <td>0.3128</td>\n      <td>0.318</td>\n      <td>0.324</td>\n      <td>0.308</td>\n      <td>0.284</td>\n      <td>0.305</td>\n      <td>0.320</td>\n      <td>0.306</td>\n    </tr>\n  </tbody>\n</table>\n</div>"
     },
     "execution_count": 6,
     "metadata": {},
     "output_type": "execute_result"
    }
   ],
   "source": [
    "print(tr_df.columns)\n",
    "print([c for c in tr_df.columns if \"pe\" in c])\n",
    "tr_df[set([c for c in tr_df.columns if \"mcp\" in c])]"
   ],
   "metadata": {
    "collapsed": false,
    "pycharm": {
     "name": "#%%\n"
    }
   }
  },
  {
   "cell_type": "code",
   "execution_count": 94,
   "outputs": [
    {
     "data": {
      "text/plain": "<AxesSubplot:>"
     },
     "execution_count": 94,
     "metadata": {},
     "output_type": "execute_result"
    },
    {
     "data": {
      "text/plain": "<Figure size 432x288 with 1 Axes>",
      "image/png": "[encoded data removed]"
     },
     "metadata": {
      "needs_background": "light"
     },
     "output_type": "display_data"
    }
   ],
   "source": [
    "£tr_df[(tr_df.index != \"e-aurc\") & (tr_df.index != \"aurc\")].plot.bar()"
   ],
   "metadata": {
    "collapsed": false,
    "pycharm": {
     "name": "#%%\n"
    }
   }
  },
  {
   "cell_type": "code",
   "execution_count": 95,
   "outputs": [
    {
     "data": {
      "text/plain": "<AxesSubplot:>"
     },
     "execution_count": 95,
     "metadata": {},
     "output_type": "execute_result"
    },
    {
     "data": {
      "text/plain": "<Figure size 432x288 with 1 Axes>",
      "image/png": "[encoded data removed]"
     },
     "metadata": {
      "needs_background": "light"
     },
     "output_type": "display_data"
    }
   ],
   "source": [
    "tr_df[(tr_df.index == \"e-aurc\") | (tr_df.index == \"aurc\")].plot.bar()\n",
    "\n",
    "\n",
    "\n"
   ],
   "metadata": {
    "collapsed": false,
    "pycharm": {
     "name": "#%%\n"
    }
   }
  }
 ],
 "metadata": {
  "kernelspec": {
   "display_name": "Python 3",
   "language": "python",
   "name": "python3"
  },
  "language_info": {
   "codemirror_mode": {
    "name": "ipython",
    "version": 2
   },
   "file_extension": ".py",
   "mimetype": "text/x-python",
   "name": "python",
   "nbconvert_exporter": "python",
   "pygments_lexer": "ipython2",
   "version": "2.7.6"
  }
 },
 "nbformat": 4,
 "nbformat_minor": 0
}